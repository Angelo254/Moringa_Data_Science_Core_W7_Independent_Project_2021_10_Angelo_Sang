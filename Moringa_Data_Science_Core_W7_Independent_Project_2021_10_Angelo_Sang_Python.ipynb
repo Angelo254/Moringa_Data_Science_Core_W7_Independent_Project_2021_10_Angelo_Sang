{
  "nbformat": 4,
  "nbformat_minor": 0,
  "metadata": {
    "colab": {
      "name": "Moringa_Data_Science_Core_W7_Independent_Project_2021_10_Angelo_Sang_Python",
      "provenance": [],
      "collapsed_sections": [
        "J4wfHZwQrs-t",
        "a9BPYqunry97",
        "7KMRBJ7zr9HD",
        "zSGyg6kWsBUl",
        "hG9Mj0NsWz8f",
        "0DfEyBbj2tPm",
        "TcjkU2i8XO2a",
        "fZQX3AGfMsB8",
        "vOuLo5z-m5O4",
        "lQ2G4ZPDVOXE",
        "1ax7GW8lNuy8",
        "HPQviDmNtta8",
        "qjFHK1CKty7o"
      ],
      "toc_visible": true,
      "include_colab_link": true
    },
    "kernelspec": {
      "name": "python3",
      "display_name": "Python 3"
    }
  },
  "cells": [
    {
      "cell_type": "markdown",
      "metadata": {
        "id": "view-in-github",
        "colab_type": "text"
      },
      "source": [
        "<a href=\"https://colab.research.google.com/github/Angelo254/Moringa_Data_Science_Core_W7_Independent_Project_2021_10_Angelo_Sang/blob/master/Moringa_Data_Science_Core_W7_Independent_Project_2021_10_Angelo_Sang_Python.ipynb\" target=\"_parent\"><img src=\"https://colab.research.google.com/assets/colab-badge.svg\" alt=\"Open In Colab\"/></a>"
      ]
    },
    {
      "cell_type": "markdown",
      "metadata": {
        "id": "xMxtPsqcTsSH"
      },
      "source": [
        "# REGRESSION TECHNIQUES:\n",
        "# Predicting the Price of a House."
      ]
    },
    {
      "cell_type": "markdown",
      "metadata": {
        "id": "kLG2VTrnTvYL"
      },
      "source": [
        "### a) Defining the Question\n",
        "\n",
        "As a Data Scientist, I have been recruited to work for Hass Consulting Company which is a real estate leader with over 25 years of experience. I have been tasked to study the factors that affect housing prices using the given information on real estate properties that was collected over the past few months. Later onwards, create a model that would allow the company to accurately predict the sale of prices upon being provided with the predictor variables."
      ]
    },
    {
      "cell_type": "markdown",
      "metadata": {
        "id": "J4wfHZwQrs-t"
      },
      "source": [
        "### b) Defining the Metric for Success\n",
        "This project will be successful when:\n",
        "\n",
        "  1) We Identify the most crucial independent variables that affect house prices. \n",
        "\n",
        "  2) The Regression model achieves atleast 80% accuracy\n",
        "\n",
        "  3) Have the lowest RMSE score possible\n"
      ]
    },
    {
      "cell_type": "markdown",
      "metadata": {
        "id": "a9BPYqunry97"
      },
      "source": [
        "### c) Understanding the context \n",
        "HassConsult offers investment-grade developments all over the City. The developments have been conceptualized by their development team to be high quality assets using a data-driven approach in planning and design, that gears property for high rental returns and an escalated rate of capital growth."
      ]
    },
    {
      "cell_type": "markdown",
      "metadata": {
        "id": "7KMRBJ7zr9HD"
      },
      "source": [
        "### d)Experimental Design\n",
        "The project was undertaken using the following design\n",
        "Datasets(Independent Project Week 7 - house_data.csv)\n",
        "\n",
        "* Performing EDA\n",
        "\n",
        "* Feature Engineering\n",
        "\n",
        "* Multiple Linear Regression\n",
        "\n",
        "* Quantile regression\n",
        "\n",
        "* Ridge Regression\n",
        "\n",
        "* Lasso Regression\n",
        "\n",
        "* Elastic-Net Regression\n",
        "\n",
        "* Computing the RMSE\n",
        "\n",
        "* Plotting residual plots\n",
        "\n",
        "* Assess their heteroscedasticity using Barlette's test\n",
        "\n",
        "* Challenging the solution\n",
        "\n",
        "* Conclusion"
      ]
    },
    {
      "cell_type": "markdown",
      "metadata": {
        "id": "zSGyg6kWsBUl"
      },
      "source": [
        "### e) Data Relevance\n",
        "The relavance of our data will be answered by the following questions.\n",
        "\n",
        "* How accurate is the data at predicting the Price of a house?\n",
        "\n",
        "* Was the dataset sufficient?\n",
        "\n",
        "* Was the data biased?\n",
        "\n",
        "* Is the data source a reliable source?"
      ]
    },
    {
      "cell_type": "markdown",
      "metadata": {
        "id": "iUNbvIvnT7ep"
      },
      "source": [
        "## 2. Reading the Data"
      ]
    },
    {
      "cell_type": "code",
      "metadata": {
        "id": "Ks4YDoIpqFTb"
      },
      "source": [
        "#loading the libraries\n",
        "import pandas as pd\n",
        "import numpy as np\n",
        "import seaborn as sns\n",
        "from sklearn.preprocessing import LabelEncoder\n",
        "import matplotlib.pyplot as plt\n",
        "from sklearn.preprocessing import PolynomialFeatures\n",
        "from sklearn.model_selection import train_test_split\n",
        "from sklearn.linear_model import LinearRegression\n",
        "from sklearn.decomposition import PCA\n",
        "from sklearn.model_selection import train_test_split,GridSearchCV\n",
        "from sklearn.linear_model import LogisticRegression\n",
        "from sklearn.ensemble import RandomForestClassifier\n",
        "from sklearn.naive_bayes import GaussianNB\n",
        "from sklearn.metrics import mean_squared_error,r2_score,accuracy_score,f1_score,classification_report\n",
        "from sklearn.metrics import confusion_matrix\n",
        "from sklearn import metrics\n",
        "import warnings\n",
        "warnings.filterwarnings('ignore')\n",
        "%matplotlib inline"
      ],
      "execution_count": 246,
      "outputs": []
    },
    {
      "cell_type": "code",
      "metadata": {
        "id": "bw1TpUB5rLob",
        "colab": {
          "base_uri": "https://localhost:8080/",
          "height": 223
        },
        "outputId": "53fff00e-5ce6-4112-b374-4121cf6904f0"
      },
      "source": [
        "#loading the dataset\n",
        "data = pd.read_csv('/content/Independent Project Week 7 - house_data.csv')\n",
        "data.head(5)"
      ],
      "execution_count": 247,
      "outputs": [
        {
          "output_type": "execute_result",
          "data": {
            "text/html": [
              "<div>\n",
              "<style scoped>\n",
              "    .dataframe tbody tr th:only-of-type {\n",
              "        vertical-align: middle;\n",
              "    }\n",
              "\n",
              "    .dataframe tbody tr th {\n",
              "        vertical-align: top;\n",
              "    }\n",
              "\n",
              "    .dataframe thead th {\n",
              "        text-align: right;\n",
              "    }\n",
              "</style>\n",
              "<table border=\"1\" class=\"dataframe\">\n",
              "  <thead>\n",
              "    <tr style=\"text-align: right;\">\n",
              "      <th></th>\n",
              "      <th>id</th>\n",
              "      <th>price</th>\n",
              "      <th>bedrooms</th>\n",
              "      <th>bathrooms</th>\n",
              "      <th>sqft_living</th>\n",
              "      <th>sqft_lot</th>\n",
              "      <th>floors</th>\n",
              "      <th>waterfront</th>\n",
              "      <th>view</th>\n",
              "      <th>condition</th>\n",
              "      <th>grade</th>\n",
              "      <th>sqft_above</th>\n",
              "      <th>sqft_basement</th>\n",
              "      <th>yr_built</th>\n",
              "      <th>yr_renovated</th>\n",
              "      <th>zipcode</th>\n",
              "      <th>lat</th>\n",
              "      <th>long</th>\n",
              "      <th>sqft_living15</th>\n",
              "      <th>sqft_lot15</th>\n",
              "    </tr>\n",
              "  </thead>\n",
              "  <tbody>\n",
              "    <tr>\n",
              "      <th>0</th>\n",
              "      <td>7129300520</td>\n",
              "      <td>221900.0</td>\n",
              "      <td>3</td>\n",
              "      <td>1.00</td>\n",
              "      <td>1180</td>\n",
              "      <td>5650</td>\n",
              "      <td>1.0</td>\n",
              "      <td>0</td>\n",
              "      <td>0</td>\n",
              "      <td>3</td>\n",
              "      <td>7</td>\n",
              "      <td>1180</td>\n",
              "      <td>0</td>\n",
              "      <td>1955</td>\n",
              "      <td>0</td>\n",
              "      <td>98178</td>\n",
              "      <td>47.5112</td>\n",
              "      <td>-122.257</td>\n",
              "      <td>1340</td>\n",
              "      <td>5650</td>\n",
              "    </tr>\n",
              "    <tr>\n",
              "      <th>1</th>\n",
              "      <td>6414100192</td>\n",
              "      <td>538000.0</td>\n",
              "      <td>3</td>\n",
              "      <td>2.25</td>\n",
              "      <td>2570</td>\n",
              "      <td>7242</td>\n",
              "      <td>2.0</td>\n",
              "      <td>0</td>\n",
              "      <td>0</td>\n",
              "      <td>3</td>\n",
              "      <td>7</td>\n",
              "      <td>2170</td>\n",
              "      <td>400</td>\n",
              "      <td>1951</td>\n",
              "      <td>1991</td>\n",
              "      <td>98125</td>\n",
              "      <td>47.7210</td>\n",
              "      <td>-122.319</td>\n",
              "      <td>1690</td>\n",
              "      <td>7639</td>\n",
              "    </tr>\n",
              "    <tr>\n",
              "      <th>2</th>\n",
              "      <td>5631500400</td>\n",
              "      <td>180000.0</td>\n",
              "      <td>2</td>\n",
              "      <td>1.00</td>\n",
              "      <td>770</td>\n",
              "      <td>10000</td>\n",
              "      <td>1.0</td>\n",
              "      <td>0</td>\n",
              "      <td>0</td>\n",
              "      <td>3</td>\n",
              "      <td>6</td>\n",
              "      <td>770</td>\n",
              "      <td>0</td>\n",
              "      <td>1933</td>\n",
              "      <td>0</td>\n",
              "      <td>98028</td>\n",
              "      <td>47.7379</td>\n",
              "      <td>-122.233</td>\n",
              "      <td>2720</td>\n",
              "      <td>8062</td>\n",
              "    </tr>\n",
              "    <tr>\n",
              "      <th>3</th>\n",
              "      <td>2487200875</td>\n",
              "      <td>604000.0</td>\n",
              "      <td>4</td>\n",
              "      <td>3.00</td>\n",
              "      <td>1960</td>\n",
              "      <td>5000</td>\n",
              "      <td>1.0</td>\n",
              "      <td>0</td>\n",
              "      <td>0</td>\n",
              "      <td>5</td>\n",
              "      <td>7</td>\n",
              "      <td>1050</td>\n",
              "      <td>910</td>\n",
              "      <td>1965</td>\n",
              "      <td>0</td>\n",
              "      <td>98136</td>\n",
              "      <td>47.5208</td>\n",
              "      <td>-122.393</td>\n",
              "      <td>1360</td>\n",
              "      <td>5000</td>\n",
              "    </tr>\n",
              "    <tr>\n",
              "      <th>4</th>\n",
              "      <td>1954400510</td>\n",
              "      <td>510000.0</td>\n",
              "      <td>3</td>\n",
              "      <td>2.00</td>\n",
              "      <td>1680</td>\n",
              "      <td>8080</td>\n",
              "      <td>1.0</td>\n",
              "      <td>0</td>\n",
              "      <td>0</td>\n",
              "      <td>3</td>\n",
              "      <td>8</td>\n",
              "      <td>1680</td>\n",
              "      <td>0</td>\n",
              "      <td>1987</td>\n",
              "      <td>0</td>\n",
              "      <td>98074</td>\n",
              "      <td>47.6168</td>\n",
              "      <td>-122.045</td>\n",
              "      <td>1800</td>\n",
              "      <td>7503</td>\n",
              "    </tr>\n",
              "  </tbody>\n",
              "</table>\n",
              "</div>"
            ],
            "text/plain": [
              "           id     price  bedrooms  ...     long  sqft_living15  sqft_lot15\n",
              "0  7129300520  221900.0         3  ... -122.257           1340        5650\n",
              "1  6414100192  538000.0         3  ... -122.319           1690        7639\n",
              "2  5631500400  180000.0         2  ... -122.233           2720        8062\n",
              "3  2487200875  604000.0         4  ... -122.393           1360        5000\n",
              "4  1954400510  510000.0         3  ... -122.045           1800        7503\n",
              "\n",
              "[5 rows x 20 columns]"
            ]
          },
          "metadata": {},
          "execution_count": 247
        }
      ]
    },
    {
      "cell_type": "code",
      "metadata": {
        "id": "XJn2KjW-WMlG",
        "colab": {
          "base_uri": "https://localhost:8080/"
        },
        "outputId": "deaa7bac-d82b-4db8-a46a-fc67219b39e2"
      },
      "source": [
        "#obtaining information about the dataset\n",
        "data.info()\n",
        "#the data has 20 columns and no null values"
      ],
      "execution_count": 248,
      "outputs": [
        {
          "output_type": "stream",
          "name": "stdout",
          "text": [
            "<class 'pandas.core.frame.DataFrame'>\n",
            "RangeIndex: 21613 entries, 0 to 21612\n",
            "Data columns (total 20 columns):\n",
            " #   Column         Non-Null Count  Dtype  \n",
            "---  ------         --------------  -----  \n",
            " 0   id             21613 non-null  int64  \n",
            " 1   price          21613 non-null  float64\n",
            " 2   bedrooms       21613 non-null  int64  \n",
            " 3   bathrooms      21613 non-null  float64\n",
            " 4   sqft_living    21613 non-null  int64  \n",
            " 5   sqft_lot       21613 non-null  int64  \n",
            " 6   floors         21613 non-null  float64\n",
            " 7   waterfront     21613 non-null  int64  \n",
            " 8   view           21613 non-null  int64  \n",
            " 9   condition      21613 non-null  int64  \n",
            " 10  grade          21613 non-null  int64  \n",
            " 11  sqft_above     21613 non-null  int64  \n",
            " 12  sqft_basement  21613 non-null  int64  \n",
            " 13  yr_built       21613 non-null  int64  \n",
            " 14  yr_renovated   21613 non-null  int64  \n",
            " 15  zipcode        21613 non-null  int64  \n",
            " 16  lat            21613 non-null  float64\n",
            " 17  long           21613 non-null  float64\n",
            " 18  sqft_living15  21613 non-null  int64  \n",
            " 19  sqft_lot15     21613 non-null  int64  \n",
            "dtypes: float64(5), int64(15)\n",
            "memory usage: 3.3 MB\n"
          ]
        }
      ]
    },
    {
      "cell_type": "code",
      "metadata": {
        "id": "FbgvVQZAwcNT",
        "colab": {
          "base_uri": "https://localhost:8080/",
          "height": 317
        },
        "outputId": "38ca94bb-7031-45bf-af7d-5703e3b9f320"
      },
      "source": [
        "#describing the data using measures of central tendency(mean,mode and median) and measures\n",
        "#of dispersion(standard deviation, variance)\n",
        "data.describe()"
      ],
      "execution_count": 249,
      "outputs": [
        {
          "output_type": "execute_result",
          "data": {
            "text/html": [
              "<div>\n",
              "<style scoped>\n",
              "    .dataframe tbody tr th:only-of-type {\n",
              "        vertical-align: middle;\n",
              "    }\n",
              "\n",
              "    .dataframe tbody tr th {\n",
              "        vertical-align: top;\n",
              "    }\n",
              "\n",
              "    .dataframe thead th {\n",
              "        text-align: right;\n",
              "    }\n",
              "</style>\n",
              "<table border=\"1\" class=\"dataframe\">\n",
              "  <thead>\n",
              "    <tr style=\"text-align: right;\">\n",
              "      <th></th>\n",
              "      <th>id</th>\n",
              "      <th>price</th>\n",
              "      <th>bedrooms</th>\n",
              "      <th>bathrooms</th>\n",
              "      <th>sqft_living</th>\n",
              "      <th>sqft_lot</th>\n",
              "      <th>floors</th>\n",
              "      <th>waterfront</th>\n",
              "      <th>view</th>\n",
              "      <th>condition</th>\n",
              "      <th>grade</th>\n",
              "      <th>sqft_above</th>\n",
              "      <th>sqft_basement</th>\n",
              "      <th>yr_built</th>\n",
              "      <th>yr_renovated</th>\n",
              "      <th>zipcode</th>\n",
              "      <th>lat</th>\n",
              "      <th>long</th>\n",
              "      <th>sqft_living15</th>\n",
              "      <th>sqft_lot15</th>\n",
              "    </tr>\n",
              "  </thead>\n",
              "  <tbody>\n",
              "    <tr>\n",
              "      <th>count</th>\n",
              "      <td>2.161300e+04</td>\n",
              "      <td>2.161300e+04</td>\n",
              "      <td>21613.000000</td>\n",
              "      <td>21613.000000</td>\n",
              "      <td>21613.000000</td>\n",
              "      <td>2.161300e+04</td>\n",
              "      <td>21613.000000</td>\n",
              "      <td>21613.000000</td>\n",
              "      <td>21613.000000</td>\n",
              "      <td>21613.000000</td>\n",
              "      <td>21613.000000</td>\n",
              "      <td>21613.000000</td>\n",
              "      <td>21613.000000</td>\n",
              "      <td>21613.000000</td>\n",
              "      <td>21613.000000</td>\n",
              "      <td>21613.000000</td>\n",
              "      <td>21613.000000</td>\n",
              "      <td>21613.000000</td>\n",
              "      <td>21613.000000</td>\n",
              "      <td>21613.000000</td>\n",
              "    </tr>\n",
              "    <tr>\n",
              "      <th>mean</th>\n",
              "      <td>4.580302e+09</td>\n",
              "      <td>5.401822e+05</td>\n",
              "      <td>3.370842</td>\n",
              "      <td>2.114757</td>\n",
              "      <td>2079.899736</td>\n",
              "      <td>1.510697e+04</td>\n",
              "      <td>1.494309</td>\n",
              "      <td>0.007542</td>\n",
              "      <td>0.234303</td>\n",
              "      <td>3.409430</td>\n",
              "      <td>7.656873</td>\n",
              "      <td>1788.390691</td>\n",
              "      <td>291.509045</td>\n",
              "      <td>1971.005136</td>\n",
              "      <td>84.402258</td>\n",
              "      <td>98077.939805</td>\n",
              "      <td>47.560053</td>\n",
              "      <td>-122.213896</td>\n",
              "      <td>1986.552492</td>\n",
              "      <td>12768.455652</td>\n",
              "    </tr>\n",
              "    <tr>\n",
              "      <th>std</th>\n",
              "      <td>2.876566e+09</td>\n",
              "      <td>3.673622e+05</td>\n",
              "      <td>0.930062</td>\n",
              "      <td>0.770163</td>\n",
              "      <td>918.440897</td>\n",
              "      <td>4.142051e+04</td>\n",
              "      <td>0.539989</td>\n",
              "      <td>0.086517</td>\n",
              "      <td>0.766318</td>\n",
              "      <td>0.650743</td>\n",
              "      <td>1.175459</td>\n",
              "      <td>828.090978</td>\n",
              "      <td>442.575043</td>\n",
              "      <td>29.373411</td>\n",
              "      <td>401.679240</td>\n",
              "      <td>53.505026</td>\n",
              "      <td>0.138564</td>\n",
              "      <td>0.140828</td>\n",
              "      <td>685.391304</td>\n",
              "      <td>27304.179631</td>\n",
              "    </tr>\n",
              "    <tr>\n",
              "      <th>min</th>\n",
              "      <td>1.000102e+06</td>\n",
              "      <td>7.500000e+04</td>\n",
              "      <td>0.000000</td>\n",
              "      <td>0.000000</td>\n",
              "      <td>290.000000</td>\n",
              "      <td>5.200000e+02</td>\n",
              "      <td>1.000000</td>\n",
              "      <td>0.000000</td>\n",
              "      <td>0.000000</td>\n",
              "      <td>1.000000</td>\n",
              "      <td>1.000000</td>\n",
              "      <td>290.000000</td>\n",
              "      <td>0.000000</td>\n",
              "      <td>1900.000000</td>\n",
              "      <td>0.000000</td>\n",
              "      <td>98001.000000</td>\n",
              "      <td>47.155900</td>\n",
              "      <td>-122.519000</td>\n",
              "      <td>399.000000</td>\n",
              "      <td>651.000000</td>\n",
              "    </tr>\n",
              "    <tr>\n",
              "      <th>25%</th>\n",
              "      <td>2.123049e+09</td>\n",
              "      <td>3.219500e+05</td>\n",
              "      <td>3.000000</td>\n",
              "      <td>1.750000</td>\n",
              "      <td>1427.000000</td>\n",
              "      <td>5.040000e+03</td>\n",
              "      <td>1.000000</td>\n",
              "      <td>0.000000</td>\n",
              "      <td>0.000000</td>\n",
              "      <td>3.000000</td>\n",
              "      <td>7.000000</td>\n",
              "      <td>1190.000000</td>\n",
              "      <td>0.000000</td>\n",
              "      <td>1951.000000</td>\n",
              "      <td>0.000000</td>\n",
              "      <td>98033.000000</td>\n",
              "      <td>47.471000</td>\n",
              "      <td>-122.328000</td>\n",
              "      <td>1490.000000</td>\n",
              "      <td>5100.000000</td>\n",
              "    </tr>\n",
              "    <tr>\n",
              "      <th>50%</th>\n",
              "      <td>3.904930e+09</td>\n",
              "      <td>4.500000e+05</td>\n",
              "      <td>3.000000</td>\n",
              "      <td>2.250000</td>\n",
              "      <td>1910.000000</td>\n",
              "      <td>7.618000e+03</td>\n",
              "      <td>1.500000</td>\n",
              "      <td>0.000000</td>\n",
              "      <td>0.000000</td>\n",
              "      <td>3.000000</td>\n",
              "      <td>7.000000</td>\n",
              "      <td>1560.000000</td>\n",
              "      <td>0.000000</td>\n",
              "      <td>1975.000000</td>\n",
              "      <td>0.000000</td>\n",
              "      <td>98065.000000</td>\n",
              "      <td>47.571800</td>\n",
              "      <td>-122.230000</td>\n",
              "      <td>1840.000000</td>\n",
              "      <td>7620.000000</td>\n",
              "    </tr>\n",
              "    <tr>\n",
              "      <th>75%</th>\n",
              "      <td>7.308900e+09</td>\n",
              "      <td>6.450000e+05</td>\n",
              "      <td>4.000000</td>\n",
              "      <td>2.500000</td>\n",
              "      <td>2550.000000</td>\n",
              "      <td>1.068800e+04</td>\n",
              "      <td>2.000000</td>\n",
              "      <td>0.000000</td>\n",
              "      <td>0.000000</td>\n",
              "      <td>4.000000</td>\n",
              "      <td>8.000000</td>\n",
              "      <td>2210.000000</td>\n",
              "      <td>560.000000</td>\n",
              "      <td>1997.000000</td>\n",
              "      <td>0.000000</td>\n",
              "      <td>98118.000000</td>\n",
              "      <td>47.678000</td>\n",
              "      <td>-122.125000</td>\n",
              "      <td>2360.000000</td>\n",
              "      <td>10083.000000</td>\n",
              "    </tr>\n",
              "    <tr>\n",
              "      <th>max</th>\n",
              "      <td>9.900000e+09</td>\n",
              "      <td>7.700000e+06</td>\n",
              "      <td>33.000000</td>\n",
              "      <td>8.000000</td>\n",
              "      <td>13540.000000</td>\n",
              "      <td>1.651359e+06</td>\n",
              "      <td>3.500000</td>\n",
              "      <td>1.000000</td>\n",
              "      <td>4.000000</td>\n",
              "      <td>5.000000</td>\n",
              "      <td>13.000000</td>\n",
              "      <td>9410.000000</td>\n",
              "      <td>4820.000000</td>\n",
              "      <td>2015.000000</td>\n",
              "      <td>2015.000000</td>\n",
              "      <td>98199.000000</td>\n",
              "      <td>47.777600</td>\n",
              "      <td>-121.315000</td>\n",
              "      <td>6210.000000</td>\n",
              "      <td>871200.000000</td>\n",
              "    </tr>\n",
              "  </tbody>\n",
              "</table>\n",
              "</div>"
            ],
            "text/plain": [
              "                 id         price  ...  sqft_living15     sqft_lot15\n",
              "count  2.161300e+04  2.161300e+04  ...   21613.000000   21613.000000\n",
              "mean   4.580302e+09  5.401822e+05  ...    1986.552492   12768.455652\n",
              "std    2.876566e+09  3.673622e+05  ...     685.391304   27304.179631\n",
              "min    1.000102e+06  7.500000e+04  ...     399.000000     651.000000\n",
              "25%    2.123049e+09  3.219500e+05  ...    1490.000000    5100.000000\n",
              "50%    3.904930e+09  4.500000e+05  ...    1840.000000    7620.000000\n",
              "75%    7.308900e+09  6.450000e+05  ...    2360.000000   10083.000000\n",
              "max    9.900000e+09  7.700000e+06  ...    6210.000000  871200.000000\n",
              "\n",
              "[8 rows x 20 columns]"
            ]
          },
          "metadata": {},
          "execution_count": 249
        }
      ]
    },
    {
      "cell_type": "markdown",
      "metadata": {
        "id": "hG9Mj0NsWz8f"
      },
      "source": [
        "# Univariate Analysis"
      ]
    },
    {
      "cell_type": "markdown",
      "metadata": {
        "id": "0DfEyBbj2tPm"
      },
      "source": [
        "##Price column\n",
        "This is the dependent variable which we are trying to predict."
      ]
    },
    {
      "cell_type": "code",
      "metadata": {
        "id": "38vACfMi23HE",
        "colab": {
          "base_uri": "https://localhost:8080/"
        },
        "outputId": "87acb686-9747-4dfb-9e80-a648f97b6203"
      },
      "source": [
        "#describing the price column in the dataset using measures of central tendency and measures of dispersion\n",
        "data['price'].describe()"
      ],
      "execution_count": 250,
      "outputs": [
        {
          "output_type": "execute_result",
          "data": {
            "text/plain": [
              "count    2.161300e+04\n",
              "mean     5.401822e+05\n",
              "std      3.673622e+05\n",
              "min      7.500000e+04\n",
              "25%      3.219500e+05\n",
              "50%      4.500000e+05\n",
              "75%      6.450000e+05\n",
              "max      7.700000e+06\n",
              "Name: price, dtype: float64"
            ]
          },
          "metadata": {},
          "execution_count": 250
        }
      ]
    },
    {
      "cell_type": "markdown",
      "metadata": {
        "id": "EVnCqKMfPM8d"
      },
      "source": [
        "##Bedrooms\n",
        "This column indicates the number of bedrooms in the house"
      ]
    },
    {
      "cell_type": "code",
      "metadata": {
        "id": "5hCBAljlPMTb",
        "colab": {
          "base_uri": "https://localhost:8080/"
        },
        "outputId": "27caca6c-0b52-4ca4-cf48-2ea57a932fb2"
      },
      "source": [
        "data.bedrooms.nunique()\n",
        "#There are 13 unique vales for the number of bedrooms in the house\n",
        "data.bedrooms.unique()\n",
        "#The unique values are\n",
        "[ 3,  2,  4,  5,  1,  6,  7,  0,  8,  9, 11, 10, 33]\n",
        "#data.bedrooms.value_counts()"
      ],
      "execution_count": 251,
      "outputs": [
        {
          "output_type": "execute_result",
          "data": {
            "text/plain": [
              "[3, 2, 4, 5, 1, 6, 7, 0, 8, 9, 11, 10, 33]"
            ]
          },
          "metadata": {},
          "execution_count": 251
        }
      ]
    },
    {
      "cell_type": "code",
      "metadata": {
        "id": "eaZaUTX-P5PQ",
        "colab": {
          "base_uri": "https://localhost:8080/",
          "height": 0
        },
        "outputId": "adf433cb-de2e-486e-b200-48dc593c4169"
      },
      "source": [
        "#visualizing the distribution of bedrooms in the dataset\n",
        "sns.countplot('bedrooms',data = data)\n",
        "plt.xlabel(\"bedrooms\",fontsize=15)\n",
        "plt.ylabel(\"COUNT\",fontsize=15)\n",
        "plt.title(\"Countplot of Bedrooms\",fontsize=16,color=\"white\")\n",
        "plt.show()\n",
        "#The distribution is normal"
      ],
      "execution_count": 252,
      "outputs": [
        {
          "output_type": "display_data",
          "data": {
            "image/png": "[encoded data removed]",
            "text/plain": [
              "<Figure size 432x288 with 1 Axes>"
            ]
          },
          "metadata": {
            "needs_background": "light"
          }
        }
      ]
    },
    {
      "cell_type": "code",
      "metadata": {
        "id": "FDexYZQTRACF",
        "colab": {
          "base_uri": "https://localhost:8080/",
          "height": 0
        },
        "outputId": "ed93311a-0204-45a4-9cb3-c8e248a2789d"
      },
      "source": [
        "#checking for outliers\n",
        "data.boxplot(column=['bedrooms'])\n",
        "plt.title(\"Boxplot of Bedrooms\",fontsize=16,color=\"white\")\n",
        "#there are a few outliers"
      ],
      "execution_count": 253,
      "outputs": [
        {
          "output_type": "execute_result",
          "data": {
            "text/plain": [
              "Text(0.5, 1.0, 'Boxplot of Bedrooms')"
            ]
          },
          "metadata": {},
          "execution_count": 253
        },
        {
          "output_type": "display_data",
          "data": {
            "image/png": "[encoded data removed]",
            "text/plain": [
              "<Figure size 432x288 with 1 Axes>"
            ]
          },
          "metadata": {
            "needs_background": "light"
          }
        }
      ]
    },
    {
      "cell_type": "code",
      "metadata": {
        "id": "-XZlsrFrSal1"
      },
      "source": [
        "#dropping the outlier\n",
        "#creating a copy\n",
        "data1 = data\n",
        "data1.drop(data1.index[data1['bedrooms'] == 33], inplace = True)"
      ],
      "execution_count": 254,
      "outputs": []
    },
    {
      "cell_type": "code",
      "metadata": {
        "id": "u8Gz79SxTG6G",
        "colab": {
          "base_uri": "https://localhost:8080/"
        },
        "outputId": "975e51df-338d-45c3-f4d3-745962bd6e24"
      },
      "source": [
        "#one values has been dropped\n",
        "data1.shape"
      ],
      "execution_count": 255,
      "outputs": [
        {
          "output_type": "execute_result",
          "data": {
            "text/plain": [
              "(21612, 20)"
            ]
          },
          "metadata": {},
          "execution_count": 255
        }
      ]
    },
    {
      "cell_type": "markdown",
      "metadata": {
        "id": "Veoea8k5V68R"
      },
      "source": [
        "##Bathrooms Column\n",
        "This column gives the number of bathrooms in the house"
      ]
    },
    {
      "cell_type": "code",
      "metadata": {
        "id": "G4qBmaMXV6hv",
        "colab": {
          "base_uri": "https://localhost:8080/"
        },
        "outputId": "b42421d4-2a70-4390-b891-e413b80e7d54"
      },
      "source": [
        "data1.bathrooms.nunique()\n",
        "#there are 30 unique values\n",
        "data1.bathrooms.describe()"
      ],
      "execution_count": 256,
      "outputs": [
        {
          "output_type": "execute_result",
          "data": {
            "text/plain": [
              "count    21612.000000\n",
              "mean         2.114774\n",
              "std          0.770177\n",
              "min          0.000000\n",
              "25%          1.750000\n",
              "50%          2.250000\n",
              "75%          2.500000\n",
              "max          8.000000\n",
              "Name: bathrooms, dtype: float64"
            ]
          },
          "metadata": {},
          "execution_count": 256
        }
      ]
    },
    {
      "cell_type": "code",
      "metadata": {
        "id": "pyrBZzJVWgcI",
        "colab": {
          "base_uri": "https://localhost:8080/",
          "height": 0
        },
        "outputId": "f9b753e1-2d44-4feb-be3f-00bf2185d97c"
      },
      "source": [
        "#visualizing the distribution of bathrooms in the dataset\n",
        "sns.countplot('bathrooms',data = data1)\n",
        "plt.xlabel(\"bathrooms\",fontsize=15)\n",
        "plt.tick_params(axis='x', rotation=90)\n",
        "plt.ylabel(\"COUNT\",fontsize=15)\n",
        "plt.title(\"Countplot of Bathrooms\",fontsize=16,color=\"white\")\n",
        "plt.show()\n",
        "#The distribution is right skewed"
      ],
      "execution_count": 257,
      "outputs": [
        {
          "output_type": "display_data",
          "data": {
            "image/png": "[encoded data removed]",
            "text/plain": [
              "<Figure size 432x288 with 1 Axes>"
            ]
          },
          "metadata": {
            "needs_background": "light"
          }
        }
      ]
    },
    {
      "cell_type": "code",
      "metadata": {
        "id": "rzicdOlBXSox",
        "colab": {
          "base_uri": "https://localhost:8080/",
          "height": 0
        },
        "outputId": "13a2788f-9c7c-4fbb-eb44-c7ce4ba6c9cf"
      },
      "source": [
        "#checking the bathrooms column distribution using a boxplot\n",
        "data1.boxplot(column=['bathrooms'])\n",
        "plt.title(\"Boxplot of Bathrooms\",fontsize=16,color=\"white\")"
      ],
      "execution_count": 258,
      "outputs": [
        {
          "output_type": "execute_result",
          "data": {
            "text/plain": [
              "Text(0.5, 1.0, 'Boxplot of Bathrooms')"
            ]
          },
          "metadata": {},
          "execution_count": 258
        },
        {
          "output_type": "display_data",
          "data": {
            "image/png": "[encoded data removed]",
            "text/plain": [
              "<Figure size 432x288 with 1 Axes>"
            ]
          },
          "metadata": {
            "needs_background": "light"
          }
        }
      ]
    },
    {
      "cell_type": "markdown",
      "metadata": {
        "id": "Z93fYApTZeys"
      },
      "source": [
        "##View Column\n",
        "The view column shows the number of views that the house has and the value ranges from 0 to 4"
      ]
    },
    {
      "cell_type": "code",
      "metadata": {
        "id": "YjSVNwgptHxY",
        "colab": {
          "base_uri": "https://localhost:8080/"
        },
        "outputId": "d6f43533-cb3d-4893-cd86-be291d9f250e"
      },
      "source": [
        "#There are 5 unique values for the view column\n",
        "data1.view.unique()"
      ],
      "execution_count": 259,
      "outputs": [
        {
          "output_type": "execute_result",
          "data": {
            "text/plain": [
              "array([0, 3, 4, 2, 1])"
            ]
          },
          "metadata": {},
          "execution_count": 259
        }
      ]
    },
    {
      "cell_type": "code",
      "metadata": {
        "id": "VA0-io6950Ow",
        "colab": {
          "base_uri": "https://localhost:8080/"
        },
        "outputId": "26f76997-51f2-404f-fde7-085136547643"
      },
      "source": [
        "#counting the number of values in the view column.\n",
        "data1['view'].value_counts()"
      ],
      "execution_count": 260,
      "outputs": [
        {
          "output_type": "execute_result",
          "data": {
            "text/plain": [
              "0    19488\n",
              "2      963\n",
              "3      510\n",
              "1      332\n",
              "4      319\n",
              "Name: view, dtype: int64"
            ]
          },
          "metadata": {},
          "execution_count": 260
        }
      ]
    },
    {
      "cell_type": "code",
      "metadata": {
        "id": "BsXU5uQctcBr",
        "colab": {
          "base_uri": "https://localhost:8080/",
          "height": 0
        },
        "outputId": "859685ff-d0b3-40bc-ebe8-711574b22a07"
      },
      "source": [
        "sns.countplot('view', data = data1)\n",
        "plt.xlabel(\"view\",fontsize=15)\n",
        "plt.ylabel(\"COUNT\",fontsize=15)\n",
        "plt.title(\"Countplot of VIEW\",fontsize=16,color=\"white\")\n",
        "plt.show()\n",
        "#generally, there is a high probability to win a match than lose or draw"
      ],
      "execution_count": 261,
      "outputs": [
        {
          "output_type": "display_data",
          "data": {
            "image/png": "[encoded data removed]",
            "text/plain": [
              "<Figure size 432x288 with 1 Axes>"
            ]
          },
          "metadata": {
            "needs_background": "light"
          }
        }
      ]
    },
    {
      "cell_type": "markdown",
      "metadata": {
        "id": "mZeI2hhk7qub"
      },
      "source": [
        "90.2 percent of the data in the view column consists of zeros. This column  does not provide alot of information thus we drop it."
      ]
    },
    {
      "cell_type": "code",
      "metadata": {
        "id": "pi3JzuuedZzv"
      },
      "source": [
        "#creating a copy\n",
        "data2 = data1"
      ],
      "execution_count": 262,
      "outputs": []
    },
    {
      "cell_type": "code",
      "metadata": {
        "id": "QtDPYUsfaIs4",
        "colab": {
          "base_uri": "https://localhost:8080/"
        },
        "outputId": "d5f2f459-7563-4ce6-f263-56f0876c4177"
      },
      "source": [
        "#Dropping the view column\n",
        "data2.drop('view', axis=1, inplace=True)\n",
        "data2.shape\n"
      ],
      "execution_count": 263,
      "outputs": [
        {
          "output_type": "execute_result",
          "data": {
            "text/plain": [
              "(21612, 19)"
            ]
          },
          "metadata": {},
          "execution_count": 263
        }
      ]
    },
    {
      "cell_type": "markdown",
      "metadata": {
        "id": "gYv5ZFQue07R"
      },
      "source": [
        "View column dropped!"
      ]
    },
    {
      "cell_type": "markdown",
      "metadata": {
        "id": "hQUTaeg94Gdl"
      },
      "source": [
        "## Waterfront column\n",
        "Boolean"
      ]
    },
    {
      "cell_type": "code",
      "metadata": {
        "id": "qWv_E-dg4lsR",
        "colab": {
          "base_uri": "https://localhost:8080/"
        },
        "outputId": "f139dfa8-1ace-4e0a-d1ed-af29cc8c0653"
      },
      "source": [
        "#The waterfront column is boolean.\n",
        "# 0 indicates no waterfront while 1 indicates presence of a waterfront\n",
        "#\n",
        "data2.waterfront.unique()"
      ],
      "execution_count": 264,
      "outputs": [
        {
          "output_type": "execute_result",
          "data": {
            "text/plain": [
              "array([0, 1])"
            ]
          },
          "metadata": {},
          "execution_count": 264
        }
      ]
    },
    {
      "cell_type": "code",
      "metadata": {
        "id": "S3hpGypr2KKD",
        "colab": {
          "base_uri": "https://localhost:8080/",
          "height": 0
        },
        "outputId": "269befe2-11cb-47d6-bae7-6e0397a425b8"
      },
      "source": [
        "sns.countplot('waterfront',data = data2)\n",
        "plt.xlabel(\"waterfront\",fontsize=15)\n",
        "plt.ylabel(\"COUNT\",fontsize=15)\n",
        "plt.title(\"Countplot of WaterFront\",fontsize=16,color=\"white\")\n",
        "plt.show()\n",
        "#generally, there is a high probability to win a match than lose or draw"
      ],
      "execution_count": 265,
      "outputs": [
        {
          "output_type": "display_data",
          "data": {
            "image/png": "[encoded data removed]",
            "text/plain": [
              "<Figure size 432x288 with 1 Axes>"
            ]
          },
          "metadata": {
            "needs_background": "light"
          }
        }
      ]
    },
    {
      "cell_type": "markdown",
      "metadata": {
        "id": "ujkpDq5lfHKT"
      },
      "source": [
        "Most of the houses do not have a Waterfront."
      ]
    },
    {
      "cell_type": "markdown",
      "metadata": {
        "id": "2BCAzGSmfc2T"
      },
      "source": [
        "##Condition\n",
        "Ordinal column that ranks the condition of a house from 1 to 5. 1 is a low ranking while 5 is the highest ranking."
      ]
    },
    {
      "cell_type": "code",
      "metadata": {
        "id": "oATpCDdef9bL",
        "colab": {
          "base_uri": "https://localhost:8080/"
        },
        "outputId": "074b2014-ee91-4b7e-f7d1-a935ce734196"
      },
      "source": [
        "data2.condition.unique()\n",
        "#The condition values from 1 to 5"
      ],
      "execution_count": 266,
      "outputs": [
        {
          "output_type": "execute_result",
          "data": {
            "text/plain": [
              "array([3, 5, 4, 1, 2])"
            ]
          },
          "metadata": {},
          "execution_count": 266
        }
      ]
    },
    {
      "cell_type": "code",
      "metadata": {
        "id": "RMCqfdZxgi0x",
        "colab": {
          "base_uri": "https://localhost:8080/",
          "height": 0
        },
        "outputId": "76a7128b-44e4-4e9d-9559-82b96d73425f"
      },
      "source": [
        "#visualizing the distribution of the condition of houses\n",
        "sns.countplot('condition',data = data1)\n",
        "plt.xlabel(\"condition\",fontsize=15)\n",
        "plt.ylabel(\"COUNT\",fontsize=15)\n",
        "plt.title(\"Countplot of Condition\",fontsize=16,color=\"white\")\n",
        "plt.show()\n",
        "#The distribution is right skewed"
      ],
      "execution_count": 267,
      "outputs": [
        {
          "output_type": "display_data",
          "data": {
            "image/png": "[encoded data removed]",
            "text/plain": [
              "<Figure size 432x288 with 1 Axes>"
            ]
          },
          "metadata": {
            "needs_background": "light"
          }
        }
      ]
    },
    {
      "cell_type": "markdown",
      "metadata": {
        "id": "jRHjAk1Lg358"
      },
      "source": [
        "Most of the houses have an above average condition."
      ]
    },
    {
      "cell_type": "markdown",
      "metadata": {
        "id": "z0_Rnb3BfeSZ"
      },
      "source": [
        "##Grade"
      ]
    },
    {
      "cell_type": "code",
      "metadata": {
        "id": "asQ0l3rohN1p",
        "colab": {
          "base_uri": "https://localhost:8080/"
        },
        "outputId": "33a8fc1e-c83e-474b-cf93-e6937b59548e"
      },
      "source": [
        "data2.grade.unique()"
      ],
      "execution_count": 268,
      "outputs": [
        {
          "output_type": "execute_result",
          "data": {
            "text/plain": [
              "array([ 7,  6,  8, 11,  9,  5, 10, 12,  4,  3, 13,  1])"
            ]
          },
          "metadata": {},
          "execution_count": 268
        }
      ]
    },
    {
      "cell_type": "code",
      "metadata": {
        "id": "opV3Y_6GhpUg",
        "colab": {
          "base_uri": "https://localhost:8080/",
          "height": 0
        },
        "outputId": "03c4855d-df3e-4ba9-e601-eead6ac64b5b"
      },
      "source": [
        "#visualizing the distribution of the condition of houses\n",
        "sns.countplot('grade',data = data2)\n",
        "plt.xlabel(\"grade\",fontsize=15)\n",
        "plt.ylabel(\"COUNT\",fontsize=15)\n",
        "plt.title(\"Countplot of Grade\",fontsize=16,color=\"white\")\n",
        "plt.show()\n",
        "#The Grade with the highest count is 7 followed by 8."
      ],
      "execution_count": 269,
      "outputs": [
        {
          "output_type": "display_data",
          "data": {
            "image/png": "[encoded data removed]",
            "text/plain": [
              "<Figure size 432x288 with 1 Axes>"
            ]
          },
          "metadata": {
            "needs_background": "light"
          }
        }
      ]
    },
    {
      "cell_type": "markdown",
      "metadata": {
        "id": "G5_4fnYOflpQ"
      },
      "source": [
        "##Yr_built"
      ]
    },
    {
      "cell_type": "code",
      "metadata": {
        "id": "7T7DqJW6kTfB",
        "colab": {
          "base_uri": "https://localhost:8080/"
        },
        "outputId": "23be7e63-97be-40d9-e259-9e3de25131e4"
      },
      "source": [
        "data2.yr_built.unique()\n",
        "#the data is for houses built between 1935 and 1955"
      ],
      "execution_count": 270,
      "outputs": [
        {
          "output_type": "execute_result",
          "data": {
            "text/plain": [
              "array([1955, 1951, 1933, 1965, 1987, 2001, 1995, 1963, 1960, 2003, 1942,\n",
              "       1927, 1977, 1900, 1979, 1994, 1916, 1921, 1969, 1947, 1968, 1985,\n",
              "       1941, 1915, 1909, 1948, 2005, 1929, 1981, 1930, 1904, 1996, 2000,\n",
              "       1984, 2014, 1922, 1959, 1966, 1953, 1950, 2008, 1991, 1954, 1973,\n",
              "       1925, 1989, 1972, 1986, 1956, 2002, 1992, 1964, 1952, 1961, 2006,\n",
              "       1988, 1962, 1939, 1946, 1967, 1975, 1980, 1910, 1983, 1978, 1905,\n",
              "       1971, 2010, 1945, 1924, 1990, 1914, 1926, 2004, 1923, 2007, 1976,\n",
              "       1949, 1999, 1901, 1993, 1920, 1997, 1943, 1957, 1940, 1918, 1928,\n",
              "       1974, 1911, 1936, 1937, 1982, 1908, 1931, 1998, 1913, 2013, 1907,\n",
              "       1958, 2012, 1912, 2011, 1917, 1932, 1944, 1902, 2009, 1903, 1970,\n",
              "       2015, 1934, 1938, 1919, 1906, 1935])"
            ]
          },
          "metadata": {},
          "execution_count": 270
        }
      ]
    },
    {
      "cell_type": "markdown",
      "metadata": {
        "id": "6aqvUzMJfqzR"
      },
      "source": [
        "##Yr_renovated"
      ]
    },
    {
      "cell_type": "code",
      "metadata": {
        "id": "UUNAAhgXlt6O",
        "colab": {
          "base_uri": "https://localhost:8080/"
        },
        "outputId": "2c5d42dc-5d58-4694-bea0-c793d112fe43"
      },
      "source": [
        "data2.yr_renovated.unique()"
      ],
      "execution_count": 271,
      "outputs": [
        {
          "output_type": "execute_result",
          "data": {
            "text/plain": [
              "array([   0, 1991, 2002, 2010, 1999, 1992, 2013, 1994, 1978, 2005, 2008,\n",
              "       2003, 1984, 1954, 2014, 2011, 1974, 1983, 1945, 1990, 1988, 1957,\n",
              "       1977, 1981, 1995, 2000, 1998, 1970, 1989, 2004, 1986, 2009, 2007,\n",
              "       1987, 1973, 2006, 1985, 2001, 1980, 1971, 1979, 1997, 1950, 1969,\n",
              "       1948, 2015, 1968, 2012, 1963, 1951, 1993, 1962, 1996, 1972, 1953,\n",
              "       1955, 1982, 1956, 1940, 1976, 1946, 1975, 1958, 1964, 1959, 1960,\n",
              "       1967, 1965, 1934, 1944])"
            ]
          },
          "metadata": {},
          "execution_count": 271
        }
      ]
    },
    {
      "cell_type": "code",
      "metadata": {
        "id": "dMl_2i8notHi"
      },
      "source": [
        "#creating a copy\n",
        "data3 = data2"
      ],
      "execution_count": 272,
      "outputs": []
    },
    {
      "cell_type": "code",
      "metadata": {
        "id": "4Xlr1Yn1uueO",
        "colab": {
          "base_uri": "https://localhost:8080/"
        },
        "outputId": "db67a679-30d1-40c2-ade4-353c59f04d82"
      },
      "source": [
        "#Dropping the yr_renovated column\n",
        "data3.drop('yr_renovated', axis=1, inplace=True)\n",
        "data3.shape"
      ],
      "execution_count": 273,
      "outputs": [
        {
          "output_type": "execute_result",
          "data": {
            "text/plain": [
              "(21612, 18)"
            ]
          },
          "metadata": {},
          "execution_count": 273
        }
      ]
    },
    {
      "cell_type": "markdown",
      "metadata": {
        "id": "QeeMgx3vnAzC"
      },
      "source": [
        "95% Percent of the column has zeros. The column does not provide alot of information thus we drop it."
      ]
    },
    {
      "cell_type": "markdown",
      "metadata": {
        "id": "rsX5ASZuf1K9"
      },
      "source": [
        "##sqft_living15\tand sqft_lot15 column"
      ]
    },
    {
      "cell_type": "code",
      "metadata": {
        "id": "FmumS4u5ymbi",
        "colab": {
          "base_uri": "https://localhost:8080/"
        },
        "outputId": "fbf7ac43-6fe3-42dd-da86-b9dfabc8b50a"
      },
      "source": [
        "#Dropping the sqft_living15\tand sqft_lot15 column\n",
        "#creating a copy\n",
        "data4 = data3\n",
        "data4.drop(columns=['sqft_living15','sqft_lot15'], axis=1, inplace=True)\n",
        "data4.shape\n"
      ],
      "execution_count": 274,
      "outputs": [
        {
          "output_type": "execute_result",
          "data": {
            "text/plain": [
              "(21612, 16)"
            ]
          },
          "metadata": {},
          "execution_count": 274
        }
      ]
    },
    {
      "cell_type": "markdown",
      "metadata": {
        "id": "HMg2MR3r3_rE"
      },
      "source": [
        "##Lat\tand long columns"
      ]
    },
    {
      "cell_type": "code",
      "metadata": {
        "id": "UU-Rg3-b331u",
        "colab": {
          "base_uri": "https://localhost:8080/"
        },
        "outputId": "3efbfcc5-528b-46f4-a6bd-2debf8535a83"
      },
      "source": [
        "#Dropping the lat\tand long columns\n",
        "#creating a copy\n",
        "data4 = data3\n",
        "data4.drop(columns=['lat','long'], axis=1, inplace=True)\n",
        "data4.shape\n"
      ],
      "execution_count": 275,
      "outputs": [
        {
          "output_type": "execute_result",
          "data": {
            "text/plain": [
              "(21612, 14)"
            ]
          },
          "metadata": {},
          "execution_count": 275
        }
      ]
    },
    {
      "cell_type": "markdown",
      "metadata": {
        "id": "vTbdjSrhVIiT"
      },
      "source": [
        "# 7.Bivariate Analysis"
      ]
    },
    {
      "cell_type": "code",
      "metadata": {
        "id": "nUV5VszKydqq",
        "colab": {
          "base_uri": "https://localhost:8080/",
          "height": 223
        },
        "outputId": "a8acbe53-8208-4efb-aa82-c5d7d7631456"
      },
      "source": [
        "data4.head()"
      ],
      "execution_count": 276,
      "outputs": [
        {
          "output_type": "execute_result",
          "data": {
            "text/html": [
              "<div>\n",
              "<style scoped>\n",
              "    .dataframe tbody tr th:only-of-type {\n",
              "        vertical-align: middle;\n",
              "    }\n",
              "\n",
              "    .dataframe tbody tr th {\n",
              "        vertical-align: top;\n",
              "    }\n",
              "\n",
              "    .dataframe thead th {\n",
              "        text-align: right;\n",
              "    }\n",
              "</style>\n",
              "<table border=\"1\" class=\"dataframe\">\n",
              "  <thead>\n",
              "    <tr style=\"text-align: right;\">\n",
              "      <th></th>\n",
              "      <th>id</th>\n",
              "      <th>price</th>\n",
              "      <th>bedrooms</th>\n",
              "      <th>bathrooms</th>\n",
              "      <th>sqft_living</th>\n",
              "      <th>sqft_lot</th>\n",
              "      <th>floors</th>\n",
              "      <th>waterfront</th>\n",
              "      <th>condition</th>\n",
              "      <th>grade</th>\n",
              "      <th>sqft_above</th>\n",
              "      <th>sqft_basement</th>\n",
              "      <th>yr_built</th>\n",
              "      <th>zipcode</th>\n",
              "    </tr>\n",
              "  </thead>\n",
              "  <tbody>\n",
              "    <tr>\n",
              "      <th>0</th>\n",
              "      <td>7129300520</td>\n",
              "      <td>221900.0</td>\n",
              "      <td>3</td>\n",
              "      <td>1.00</td>\n",
              "      <td>1180</td>\n",
              "      <td>5650</td>\n",
              "      <td>1.0</td>\n",
              "      <td>0</td>\n",
              "      <td>3</td>\n",
              "      <td>7</td>\n",
              "      <td>1180</td>\n",
              "      <td>0</td>\n",
              "      <td>1955</td>\n",
              "      <td>98178</td>\n",
              "    </tr>\n",
              "    <tr>\n",
              "      <th>1</th>\n",
              "      <td>6414100192</td>\n",
              "      <td>538000.0</td>\n",
              "      <td>3</td>\n",
              "      <td>2.25</td>\n",
              "      <td>2570</td>\n",
              "      <td>7242</td>\n",
              "      <td>2.0</td>\n",
              "      <td>0</td>\n",
              "      <td>3</td>\n",
              "      <td>7</td>\n",
              "      <td>2170</td>\n",
              "      <td>400</td>\n",
              "      <td>1951</td>\n",
              "      <td>98125</td>\n",
              "    </tr>\n",
              "    <tr>\n",
              "      <th>2</th>\n",
              "      <td>5631500400</td>\n",
              "      <td>180000.0</td>\n",
              "      <td>2</td>\n",
              "      <td>1.00</td>\n",
              "      <td>770</td>\n",
              "      <td>10000</td>\n",
              "      <td>1.0</td>\n",
              "      <td>0</td>\n",
              "      <td>3</td>\n",
              "      <td>6</td>\n",
              "      <td>770</td>\n",
              "      <td>0</td>\n",
              "      <td>1933</td>\n",
              "      <td>98028</td>\n",
              "    </tr>\n",
              "    <tr>\n",
              "      <th>3</th>\n",
              "      <td>2487200875</td>\n",
              "      <td>604000.0</td>\n",
              "      <td>4</td>\n",
              "      <td>3.00</td>\n",
              "      <td>1960</td>\n",
              "      <td>5000</td>\n",
              "      <td>1.0</td>\n",
              "      <td>0</td>\n",
              "      <td>5</td>\n",
              "      <td>7</td>\n",
              "      <td>1050</td>\n",
              "      <td>910</td>\n",
              "      <td>1965</td>\n",
              "      <td>98136</td>\n",
              "    </tr>\n",
              "    <tr>\n",
              "      <th>4</th>\n",
              "      <td>1954400510</td>\n",
              "      <td>510000.0</td>\n",
              "      <td>3</td>\n",
              "      <td>2.00</td>\n",
              "      <td>1680</td>\n",
              "      <td>8080</td>\n",
              "      <td>1.0</td>\n",
              "      <td>0</td>\n",
              "      <td>3</td>\n",
              "      <td>8</td>\n",
              "      <td>1680</td>\n",
              "      <td>0</td>\n",
              "      <td>1987</td>\n",
              "      <td>98074</td>\n",
              "    </tr>\n",
              "  </tbody>\n",
              "</table>\n",
              "</div>"
            ],
            "text/plain": [
              "           id     price  bedrooms  ...  sqft_basement  yr_built  zipcode\n",
              "0  7129300520  221900.0         3  ...              0      1955    98178\n",
              "1  6414100192  538000.0         3  ...            400      1951    98125\n",
              "2  5631500400  180000.0         2  ...              0      1933    98028\n",
              "3  2487200875  604000.0         4  ...            910      1965    98136\n",
              "4  1954400510  510000.0         3  ...              0      1987    98074\n",
              "\n",
              "[5 rows x 14 columns]"
            ]
          },
          "metadata": {},
          "execution_count": 276
        }
      ]
    },
    {
      "cell_type": "markdown",
      "metadata": {
        "id": "E-lll10KgoGw"
      },
      "source": [
        "## Checking for Multi-collinearity"
      ]
    },
    {
      "cell_type": "code",
      "metadata": {
        "id": "X2hz5CvSg2Rd",
        "colab": {
          "base_uri": "https://localhost:8080/",
          "height": 440
        },
        "outputId": "beae60d8-4e0a-449e-f9e7-b991f350f167"
      },
      "source": [
        "# Let's display the correlations between the variables\n",
        "corr = data4[['price','bedrooms','bathrooms','sqft_living','sqft_lot','floors',\t'waterfront',\t'condition','grade','sqft_above','sqft_basement','yr_built',]].corr()\n",
        "corr"
      ],
      "execution_count": 277,
      "outputs": [
        {
          "output_type": "execute_result",
          "data": {
            "text/html": [
              "<div>\n",
              "<style scoped>\n",
              "    .dataframe tbody tr th:only-of-type {\n",
              "        vertical-align: middle;\n",
              "    }\n",
              "\n",
              "    .dataframe tbody tr th {\n",
              "        vertical-align: top;\n",
              "    }\n",
              "\n",
              "    .dataframe thead th {\n",
              "        text-align: right;\n",
              "    }\n",
              "</style>\n",
              "<table border=\"1\" class=\"dataframe\">\n",
              "  <thead>\n",
              "    <tr style=\"text-align: right;\">\n",
              "      <th></th>\n",
              "      <th>price</th>\n",
              "      <th>bedrooms</th>\n",
              "      <th>bathrooms</th>\n",
              "      <th>sqft_living</th>\n",
              "      <th>sqft_lot</th>\n",
              "      <th>floors</th>\n",
              "      <th>waterfront</th>\n",
              "      <th>condition</th>\n",
              "      <th>grade</th>\n",
              "      <th>sqft_above</th>\n",
              "      <th>sqft_basement</th>\n",
              "      <th>yr_built</th>\n",
              "    </tr>\n",
              "  </thead>\n",
              "  <tbody>\n",
              "    <tr>\n",
              "      <th>price</th>\n",
              "      <td>1.000000</td>\n",
              "      <td>0.315434</td>\n",
              "      <td>0.525144</td>\n",
              "      <td>0.702055</td>\n",
              "      <td>0.089658</td>\n",
              "      <td>0.256803</td>\n",
              "      <td>0.266332</td>\n",
              "      <td>0.036366</td>\n",
              "      <td>0.667476</td>\n",
              "      <td>0.605589</td>\n",
              "      <td>0.323833</td>\n",
              "      <td>0.053993</td>\n",
              "    </tr>\n",
              "    <tr>\n",
              "      <th>bedrooms</th>\n",
              "      <td>0.315434</td>\n",
              "      <td>1.000000</td>\n",
              "      <td>0.529159</td>\n",
              "      <td>0.591467</td>\n",
              "      <td>0.032807</td>\n",
              "      <td>0.181085</td>\n",
              "      <td>-0.006611</td>\n",
              "      <td>0.025478</td>\n",
              "      <td>0.366502</td>\n",
              "      <td>0.490600</td>\n",
              "      <td>0.309490</td>\n",
              "      <td>0.159167</td>\n",
              "    </tr>\n",
              "    <tr>\n",
              "      <th>bathrooms</th>\n",
              "      <td>0.525144</td>\n",
              "      <td>0.529159</td>\n",
              "      <td>1.000000</td>\n",
              "      <td>0.754663</td>\n",
              "      <td>0.087735</td>\n",
              "      <td>0.500645</td>\n",
              "      <td>0.063742</td>\n",
              "      <td>-0.124946</td>\n",
              "      <td>0.664979</td>\n",
              "      <td>0.685339</td>\n",
              "      <td>0.283789</td>\n",
              "      <td>0.506012</td>\n",
              "    </tr>\n",
              "    <tr>\n",
              "      <th>sqft_living</th>\n",
              "      <td>0.702055</td>\n",
              "      <td>0.591467</td>\n",
              "      <td>0.754663</td>\n",
              "      <td>1.000000</td>\n",
              "      <td>0.172822</td>\n",
              "      <td>0.353937</td>\n",
              "      <td>0.103816</td>\n",
              "      <td>-0.058704</td>\n",
              "      <td>0.762701</td>\n",
              "      <td>0.876597</td>\n",
              "      <td>0.435065</td>\n",
              "      <td>0.318037</td>\n",
              "    </tr>\n",
              "    <tr>\n",
              "      <th>sqft_lot</th>\n",
              "      <td>0.089658</td>\n",
              "      <td>0.032807</td>\n",
              "      <td>0.087735</td>\n",
              "      <td>0.172822</td>\n",
              "      <td>1.000000</td>\n",
              "      <td>-0.005210</td>\n",
              "      <td>0.021603</td>\n",
              "      <td>-0.008935</td>\n",
              "      <td>0.113616</td>\n",
              "      <td>0.183507</td>\n",
              "      <td>0.015293</td>\n",
              "      <td>0.053073</td>\n",
              "    </tr>\n",
              "    <tr>\n",
              "      <th>floors</th>\n",
              "      <td>0.256803</td>\n",
              "      <td>0.181085</td>\n",
              "      <td>0.500645</td>\n",
              "      <td>0.353937</td>\n",
              "      <td>-0.005210</td>\n",
              "      <td>1.000000</td>\n",
              "      <td>0.023695</td>\n",
              "      <td>-0.263706</td>\n",
              "      <td>0.458171</td>\n",
              "      <td>0.523866</td>\n",
              "      <td>-0.245684</td>\n",
              "      <td>0.489302</td>\n",
              "    </tr>\n",
              "    <tr>\n",
              "      <th>waterfront</th>\n",
              "      <td>0.266332</td>\n",
              "      <td>-0.006611</td>\n",
              "      <td>0.063742</td>\n",
              "      <td>0.103816</td>\n",
              "      <td>0.021603</td>\n",
              "      <td>0.023695</td>\n",
              "      <td>1.000000</td>\n",
              "      <td>0.016665</td>\n",
              "      <td>0.082773</td>\n",
              "      <td>0.072072</td>\n",
              "      <td>0.080591</td>\n",
              "      <td>-0.026165</td>\n",
              "    </tr>\n",
              "    <tr>\n",
              "      <th>condition</th>\n",
              "      <td>0.036366</td>\n",
              "      <td>0.025478</td>\n",
              "      <td>-0.124946</td>\n",
              "      <td>-0.058704</td>\n",
              "      <td>-0.008935</td>\n",
              "      <td>-0.263706</td>\n",
              "      <td>0.016665</td>\n",
              "      <td>1.000000</td>\n",
              "      <td>-0.144632</td>\n",
              "      <td>-0.158136</td>\n",
              "      <td>0.174057</td>\n",
              "      <td>-0.361380</td>\n",
              "    </tr>\n",
              "    <tr>\n",
              "      <th>grade</th>\n",
              "      <td>0.667476</td>\n",
              "      <td>0.366502</td>\n",
              "      <td>0.664979</td>\n",
              "      <td>0.762701</td>\n",
              "      <td>0.113616</td>\n",
              "      <td>0.458171</td>\n",
              "      <td>0.082773</td>\n",
              "      <td>-0.144632</td>\n",
              "      <td>1.000000</td>\n",
              "      <td>0.755919</td>\n",
              "      <td>0.168412</td>\n",
              "      <td>0.446952</td>\n",
              "    </tr>\n",
              "    <tr>\n",
              "      <th>sqft_above</th>\n",
              "      <td>0.605589</td>\n",
              "      <td>0.490600</td>\n",
              "      <td>0.685339</td>\n",
              "      <td>0.876597</td>\n",
              "      <td>0.183507</td>\n",
              "      <td>0.523866</td>\n",
              "      <td>0.072072</td>\n",
              "      <td>-0.158136</td>\n",
              "      <td>0.755919</td>\n",
              "      <td>1.000000</td>\n",
              "      <td>-0.051918</td>\n",
              "      <td>0.423879</td>\n",
              "    </tr>\n",
              "    <tr>\n",
              "      <th>sqft_basement</th>\n",
              "      <td>0.323833</td>\n",
              "      <td>0.309490</td>\n",
              "      <td>0.283789</td>\n",
              "      <td>0.435065</td>\n",
              "      <td>0.015293</td>\n",
              "      <td>-0.245684</td>\n",
              "      <td>0.080591</td>\n",
              "      <td>0.174057</td>\n",
              "      <td>0.168412</td>\n",
              "      <td>-0.051918</td>\n",
              "      <td>1.000000</td>\n",
              "      <td>-0.133103</td>\n",
              "    </tr>\n",
              "    <tr>\n",
              "      <th>yr_built</th>\n",
              "      <td>0.053993</td>\n",
              "      <td>0.159167</td>\n",
              "      <td>0.506012</td>\n",
              "      <td>0.318037</td>\n",
              "      <td>0.053073</td>\n",
              "      <td>0.489302</td>\n",
              "      <td>-0.026165</td>\n",
              "      <td>-0.361380</td>\n",
              "      <td>0.446952</td>\n",
              "      <td>0.423879</td>\n",
              "      <td>-0.133103</td>\n",
              "      <td>1.000000</td>\n",
              "    </tr>\n",
              "  </tbody>\n",
              "</table>\n",
              "</div>"
            ],
            "text/plain": [
              "                  price  bedrooms  ...  sqft_basement  yr_built\n",
              "price          1.000000  0.315434  ...       0.323833  0.053993\n",
              "bedrooms       0.315434  1.000000  ...       0.309490  0.159167\n",
              "bathrooms      0.525144  0.529159  ...       0.283789  0.506012\n",
              "sqft_living    0.702055  0.591467  ...       0.435065  0.318037\n",
              "sqft_lot       0.089658  0.032807  ...       0.015293  0.053073\n",
              "floors         0.256803  0.181085  ...      -0.245684  0.489302\n",
              "waterfront     0.266332 -0.006611  ...       0.080591 -0.026165\n",
              "condition      0.036366  0.025478  ...       0.174057 -0.361380\n",
              "grade          0.667476  0.366502  ...       0.168412  0.446952\n",
              "sqft_above     0.605589  0.490600  ...      -0.051918  0.423879\n",
              "sqft_basement  0.323833  0.309490  ...       1.000000 -0.133103\n",
              "yr_built       0.053993  0.159167  ...      -0.133103  1.000000\n",
              "\n",
              "[12 rows x 12 columns]"
            ]
          },
          "metadata": {},
          "execution_count": 277
        }
      ]
    },
    {
      "cell_type": "code",
      "metadata": {
        "id": "SDIJl0ariwws",
        "colab": {
          "base_uri": "https://localhost:8080/",
          "height": 567
        },
        "outputId": "4d407897-9639-436c-c621-aee329a2a8fe"
      },
      "source": [
        "#visualizing correlation on a heatmap\n",
        "plt.figure(figsize=(15,10))\n",
        "sns.heatmap(corr, annot = True)\n",
        "plt.show()"
      ],
      "execution_count": 278,
      "outputs": [
        {
          "output_type": "display_data",
          "data": {
            "image/png": "[encoded data removed]",
            "text/plain": [
              "<Figure size 1080x720 with 2 Axes>"
            ]
          },
          "metadata": {
            "needs_background": "light"
          }
        }
      ]
    },
    {
      "cell_type": "markdown",
      "metadata": {
        "id": "seXw2jQUlp1J"
      },
      "source": [
        "The heat map above shows VIF values that are very close to 0 meaning that there is very little multi-collinearity."
      ]
    },
    {
      "cell_type": "markdown",
      "metadata": {
        "id": "TcjkU2i8XO2a"
      },
      "source": [
        "# Feature Engineering\n",
        "The columns sqft_above and sqft_living have a very high correlation of 0.88 thus we join the two to form a new column sqft_abv_living"
      ]
    },
    {
      "cell_type": "code",
      "metadata": {
        "id": "XLWjAr1LKPwp",
        "colab": {
          "base_uri": "https://localhost:8080/",
          "height": 223
        },
        "outputId": "1a44b05e-f3dd-4513-cefb-ac2a9571de16"
      },
      "source": [
        "#creating a copy\n",
        "data5 = data4\n",
        "\n",
        "data5['sqft_abv_living'] = data5['sqft_above'] + data5['sqft_living']\n",
        "data5.head()"
      ],
      "execution_count": 279,
      "outputs": [
        {
          "output_type": "execute_result",
          "data": {
            "text/html": [
              "<div>\n",
              "<style scoped>\n",
              "    .dataframe tbody tr th:only-of-type {\n",
              "        vertical-align: middle;\n",
              "    }\n",
              "\n",
              "    .dataframe tbody tr th {\n",
              "        vertical-align: top;\n",
              "    }\n",
              "\n",
              "    .dataframe thead th {\n",
              "        text-align: right;\n",
              "    }\n",
              "</style>\n",
              "<table border=\"1\" class=\"dataframe\">\n",
              "  <thead>\n",
              "    <tr style=\"text-align: right;\">\n",
              "      <th></th>\n",
              "      <th>id</th>\n",
              "      <th>price</th>\n",
              "      <th>bedrooms</th>\n",
              "      <th>bathrooms</th>\n",
              "      <th>sqft_living</th>\n",
              "      <th>sqft_lot</th>\n",
              "      <th>floors</th>\n",
              "      <th>waterfront</th>\n",
              "      <th>condition</th>\n",
              "      <th>grade</th>\n",
              "      <th>sqft_above</th>\n",
              "      <th>sqft_basement</th>\n",
              "      <th>yr_built</th>\n",
              "      <th>zipcode</th>\n",
              "      <th>sqft_abv_living</th>\n",
              "    </tr>\n",
              "  </thead>\n",
              "  <tbody>\n",
              "    <tr>\n",
              "      <th>0</th>\n",
              "      <td>7129300520</td>\n",
              "      <td>221900.0</td>\n",
              "      <td>3</td>\n",
              "      <td>1.00</td>\n",
              "      <td>1180</td>\n",
              "      <td>5650</td>\n",
              "      <td>1.0</td>\n",
              "      <td>0</td>\n",
              "      <td>3</td>\n",
              "      <td>7</td>\n",
              "      <td>1180</td>\n",
              "      <td>0</td>\n",
              "      <td>1955</td>\n",
              "      <td>98178</td>\n",
              "      <td>2360</td>\n",
              "    </tr>\n",
              "    <tr>\n",
              "      <th>1</th>\n",
              "      <td>6414100192</td>\n",
              "      <td>538000.0</td>\n",
              "      <td>3</td>\n",
              "      <td>2.25</td>\n",
              "      <td>2570</td>\n",
              "      <td>7242</td>\n",
              "      <td>2.0</td>\n",
              "      <td>0</td>\n",
              "      <td>3</td>\n",
              "      <td>7</td>\n",
              "      <td>2170</td>\n",
              "      <td>400</td>\n",
              "      <td>1951</td>\n",
              "      <td>98125</td>\n",
              "      <td>4740</td>\n",
              "    </tr>\n",
              "    <tr>\n",
              "      <th>2</th>\n",
              "      <td>5631500400</td>\n",
              "      <td>180000.0</td>\n",
              "      <td>2</td>\n",
              "      <td>1.00</td>\n",
              "      <td>770</td>\n",
              "      <td>10000</td>\n",
              "      <td>1.0</td>\n",
              "      <td>0</td>\n",
              "      <td>3</td>\n",
              "      <td>6</td>\n",
              "      <td>770</td>\n",
              "      <td>0</td>\n",
              "      <td>1933</td>\n",
              "      <td>98028</td>\n",
              "      <td>1540</td>\n",
              "    </tr>\n",
              "    <tr>\n",
              "      <th>3</th>\n",
              "      <td>2487200875</td>\n",
              "      <td>604000.0</td>\n",
              "      <td>4</td>\n",
              "      <td>3.00</td>\n",
              "      <td>1960</td>\n",
              "      <td>5000</td>\n",
              "      <td>1.0</td>\n",
              "      <td>0</td>\n",
              "      <td>5</td>\n",
              "      <td>7</td>\n",
              "      <td>1050</td>\n",
              "      <td>910</td>\n",
              "      <td>1965</td>\n",
              "      <td>98136</td>\n",
              "      <td>3010</td>\n",
              "    </tr>\n",
              "    <tr>\n",
              "      <th>4</th>\n",
              "      <td>1954400510</td>\n",
              "      <td>510000.0</td>\n",
              "      <td>3</td>\n",
              "      <td>2.00</td>\n",
              "      <td>1680</td>\n",
              "      <td>8080</td>\n",
              "      <td>1.0</td>\n",
              "      <td>0</td>\n",
              "      <td>3</td>\n",
              "      <td>8</td>\n",
              "      <td>1680</td>\n",
              "      <td>0</td>\n",
              "      <td>1987</td>\n",
              "      <td>98074</td>\n",
              "      <td>3360</td>\n",
              "    </tr>\n",
              "  </tbody>\n",
              "</table>\n",
              "</div>"
            ],
            "text/plain": [
              "           id     price  bedrooms  ...  yr_built  zipcode  sqft_abv_living\n",
              "0  7129300520  221900.0         3  ...      1955    98178             2360\n",
              "1  6414100192  538000.0         3  ...      1951    98125             4740\n",
              "2  5631500400  180000.0         2  ...      1933    98028             1540\n",
              "3  2487200875  604000.0         4  ...      1965    98136             3010\n",
              "4  1954400510  510000.0         3  ...      1987    98074             3360\n",
              "\n",
              "[5 rows x 15 columns]"
            ]
          },
          "metadata": {},
          "execution_count": 279
        }
      ]
    },
    {
      "cell_type": "code",
      "metadata": {
        "id": "0StIeVd2YdmT",
        "colab": {
          "base_uri": "https://localhost:8080/"
        },
        "outputId": "43009695-c200-480d-d168-7d3bbac22304"
      },
      "source": [
        "#creating a copy\n",
        "data6 = data5.drop(columns= ['id','sqft_above','sqft_living'])\n",
        "data6.info()"
      ],
      "execution_count": 280,
      "outputs": [
        {
          "output_type": "stream",
          "name": "stdout",
          "text": [
            "<class 'pandas.core.frame.DataFrame'>\n",
            "Int64Index: 21612 entries, 0 to 21612\n",
            "Data columns (total 12 columns):\n",
            " #   Column           Non-Null Count  Dtype  \n",
            "---  ------           --------------  -----  \n",
            " 0   price            21612 non-null  float64\n",
            " 1   bedrooms         21612 non-null  int64  \n",
            " 2   bathrooms        21612 non-null  float64\n",
            " 3   sqft_lot         21612 non-null  int64  \n",
            " 4   floors           21612 non-null  float64\n",
            " 5   waterfront       21612 non-null  int64  \n",
            " 6   condition        21612 non-null  int64  \n",
            " 7   grade            21612 non-null  int64  \n",
            " 8   sqft_basement    21612 non-null  int64  \n",
            " 9   yr_built         21612 non-null  int64  \n",
            " 10  zipcode          21612 non-null  int64  \n",
            " 11  sqft_abv_living  21612 non-null  int64  \n",
            "dtypes: float64(3), int64(9)\n",
            "memory usage: 2.8 MB\n"
          ]
        }
      ]
    },
    {
      "cell_type": "code",
      "metadata": {
        "id": "rqPS4vKUWP17",
        "colab": {
          "base_uri": "https://localhost:8080/"
        },
        "outputId": "111696fc-95e1-4c9e-fe4a-afc75acdd210"
      },
      "source": [
        "#obtaining the column names\n",
        "for col in data6.columns: \n",
        "    print(col) "
      ],
      "execution_count": 281,
      "outputs": [
        {
          "output_type": "stream",
          "name": "stdout",
          "text": [
            "price\n",
            "bedrooms\n",
            "bathrooms\n",
            "sqft_lot\n",
            "floors\n",
            "waterfront\n",
            "condition\n",
            "grade\n",
            "sqft_basement\n",
            "yr_built\n",
            "zipcode\n",
            "sqft_abv_living\n"
          ]
        }
      ]
    },
    {
      "cell_type": "code",
      "metadata": {
        "id": "ki-IDkZaZl5g",
        "colab": {
          "base_uri": "https://localhost:8080/"
        },
        "outputId": "6a15c815-1c6b-4ed7-90fc-221c4696c1bc"
      },
      "source": [
        "X = data6.drop(columns= ['price'])\n",
        "y = data6['price']\n",
        "\n",
        "data7 = pd.get_dummies(data6, columns=['waterfront'])\n",
        "print(X)\n",
        "print(y)"
      ],
      "execution_count": 282,
      "outputs": [
        {
          "output_type": "stream",
          "name": "stdout",
          "text": [
            "       bedrooms  bathrooms  sqft_lot  ...  yr_built  zipcode  sqft_abv_living\n",
            "0             3       1.00      5650  ...      1955    98178             2360\n",
            "1             3       2.25      7242  ...      1951    98125             4740\n",
            "2             2       1.00     10000  ...      1933    98028             1540\n",
            "3             4       3.00      5000  ...      1965    98136             3010\n",
            "4             3       2.00      8080  ...      1987    98074             3360\n",
            "...         ...        ...       ...  ...       ...      ...              ...\n",
            "21608         3       2.50      1131  ...      2009    98103             3060\n",
            "21609         4       2.50      5813  ...      2014    98146             4620\n",
            "21610         2       0.75      1350  ...      2009    98144             2040\n",
            "21611         3       2.50      2388  ...      2004    98027             3200\n",
            "21612         2       0.75      1076  ...      2008    98144             2040\n",
            "\n",
            "[21612 rows x 11 columns]\n",
            "0        221900.0\n",
            "1        538000.0\n",
            "2        180000.0\n",
            "3        604000.0\n",
            "4        510000.0\n",
            "           ...   \n",
            "21608    360000.0\n",
            "21609    400000.0\n",
            "21610    402101.0\n",
            "21611    400000.0\n",
            "21612    325000.0\n",
            "Name: price, Length: 21612, dtype: float64\n"
          ]
        }
      ]
    },
    {
      "cell_type": "markdown",
      "metadata": {
        "id": "fZQX3AGfMsB8"
      },
      "source": [
        "#Multi-Variate Analysis"
      ]
    },
    {
      "cell_type": "code",
      "metadata": {
        "id": "hkxGntegQdIR",
        "colab": {
          "base_uri": "https://localhost:8080/",
          "height": 390
        },
        "outputId": "51a4dae3-3674-4f8d-c7b3-21fde88e27bd"
      },
      "source": [
        "#Finding the best principal Components\n",
        "from sklearn.decomposition import PCA\n",
        "\n",
        "np.random.seed(0)\n",
        "\n",
        "train_features = X\n",
        "\n",
        "model = PCA(n_components=11).fit(train_features)\n",
        "\n",
        "# number of components\n",
        "n_pcs= model.components_.shape[0]\n",
        "# get the index of the most important feature on EACH component\n",
        "# LIST COMPREHENSION HERE\n",
        "most_important = [np.abs(model.components_[i]).argmax() for i in range(n_pcs)]\n",
        "initial_feature_names = ['bedrooms','bathrooms','sqft_lot','floors','waterfront','condition','grade','sqft_basement','yr_built','zipcode','sqft_abv_living']\n",
        "# get the names\n",
        "most_important_names = [initial_feature_names[most_important[i]] for i in range(n_pcs)]\n",
        "# LIST COMPREHENSION HERE AGAIN\n",
        "dic = {'PC{}'.format(i): most_important_names[i] for i in range(n_pcs)}\n",
        "# build the dataframe\n",
        "df = pd.DataFrame(dic.items())\n",
        "df"
      ],
      "execution_count": 283,
      "outputs": [
        {
          "output_type": "execute_result",
          "data": {
            "text/html": [
              "<div>\n",
              "<style scoped>\n",
              "    .dataframe tbody tr th:only-of-type {\n",
              "        vertical-align: middle;\n",
              "    }\n",
              "\n",
              "    .dataframe tbody tr th {\n",
              "        vertical-align: top;\n",
              "    }\n",
              "\n",
              "    .dataframe thead th {\n",
              "        text-align: right;\n",
              "    }\n",
              "</style>\n",
              "<table border=\"1\" class=\"dataframe\">\n",
              "  <thead>\n",
              "    <tr style=\"text-align: right;\">\n",
              "      <th></th>\n",
              "      <th>0</th>\n",
              "      <th>1</th>\n",
              "    </tr>\n",
              "  </thead>\n",
              "  <tbody>\n",
              "    <tr>\n",
              "      <th>0</th>\n",
              "      <td>PC0</td>\n",
              "      <td>sqft_lot</td>\n",
              "    </tr>\n",
              "    <tr>\n",
              "      <th>1</th>\n",
              "      <td>PC1</td>\n",
              "      <td>sqft_abv_living</td>\n",
              "    </tr>\n",
              "    <tr>\n",
              "      <th>2</th>\n",
              "      <td>PC2</td>\n",
              "      <td>sqft_basement</td>\n",
              "    </tr>\n",
              "    <tr>\n",
              "      <th>3</th>\n",
              "      <td>PC3</td>\n",
              "      <td>zipcode</td>\n",
              "    </tr>\n",
              "    <tr>\n",
              "      <th>4</th>\n",
              "      <td>PC4</td>\n",
              "      <td>yr_built</td>\n",
              "    </tr>\n",
              "    <tr>\n",
              "      <th>5</th>\n",
              "      <td>PC5</td>\n",
              "      <td>bedrooms</td>\n",
              "    </tr>\n",
              "    <tr>\n",
              "      <th>6</th>\n",
              "      <td>PC6</td>\n",
              "      <td>grade</td>\n",
              "    </tr>\n",
              "    <tr>\n",
              "      <th>7</th>\n",
              "      <td>PC7</td>\n",
              "      <td>condition</td>\n",
              "    </tr>\n",
              "    <tr>\n",
              "      <th>8</th>\n",
              "      <td>PC8</td>\n",
              "      <td>bathrooms</td>\n",
              "    </tr>\n",
              "    <tr>\n",
              "      <th>9</th>\n",
              "      <td>PC9</td>\n",
              "      <td>floors</td>\n",
              "    </tr>\n",
              "    <tr>\n",
              "      <th>10</th>\n",
              "      <td>PC10</td>\n",
              "      <td>waterfront</td>\n",
              "    </tr>\n",
              "  </tbody>\n",
              "</table>\n",
              "</div>"
            ],
            "text/plain": [
              "       0                1\n",
              "0    PC0         sqft_lot\n",
              "1    PC1  sqft_abv_living\n",
              "2    PC2    sqft_basement\n",
              "3    PC3          zipcode\n",
              "4    PC4         yr_built\n",
              "5    PC5         bedrooms\n",
              "6    PC6            grade\n",
              "7    PC7        condition\n",
              "8    PC8        bathrooms\n",
              "9    PC9           floors\n",
              "10  PC10       waterfront"
            ]
          },
          "metadata": {},
          "execution_count": 283
        }
      ]
    },
    {
      "cell_type": "markdown",
      "metadata": {
        "id": "lo07-uGWbZoL"
      },
      "source": [
        "The dataframe above gives an ordered list of how the principal components explain the variance starting from the highest explained variance to the lowest. PC0 explains the most variance while PC10 explains the least Variance."
      ]
    },
    {
      "cell_type": "markdown",
      "metadata": {
        "id": "e52EgySvmuM9"
      },
      "source": [
        "# **Regression**\n"
      ]
    },
    {
      "cell_type": "markdown",
      "metadata": {
        "id": "vOuLo5z-m5O4"
      },
      "source": [
        "##1st Approach: Multiple Linear Regression"
      ]
    },
    {
      "cell_type": "code",
      "metadata": {
        "id": "IHQOLs1Nh2bx",
        "colab": {
          "base_uri": "https://localhost:8080/"
        },
        "outputId": "e0ea6327-7259-4ed6-f116-955981627379"
      },
      "source": [
        "from sklearn import linear_model\n",
        "from sklearn import ensemble\n",
        "from sklearn.metrics import mean_squared_error\n",
        "# Fit Linear Regression model to the dataset( We are doing this for the\n",
        "#sole purpose of creating a baseline model to compare the linear regression\n",
        "# model to the polynomial regression model)\n",
        "\n",
        "regressor = linear_model.LinearRegression(fit_intercept = True, normalize = True)\n",
        "regressor.fit(X, y)\n",
        "# This is our prediction for admission based on our model\n",
        "print('Intercept: \\n', regressor.intercept_)\n",
        "#The coefficients represent the contribution of the predictor variables in creating the model\n",
        "print('Coefficients: \\n', regressor.coef_)"
      ],
      "execution_count": 284,
      "outputs": [
        {
          "output_type": "stream",
          "name": "stdout",
          "text": [
            "Intercept: \n",
            " 5746931.780670354\n",
            "Coefficients: \n",
            " [-4.61760698e+04  4.92374106e+04 -2.29686828e-01  2.56947318e+04\n",
            "  7.16338573e+05  1.80296459e+04  1.29435746e+05  1.03600926e+02\n",
            " -3.79249113e+03  8.73243263e+00  8.79441580e+01]\n"
          ]
        }
      ]
    },
    {
      "cell_type": "code",
      "metadata": {
        "id": "tkHqHZ8L5Mu8"
      },
      "source": [
        "# Linear Model for the  train and test\n",
        "data8 = data7\n",
        "# b represents the dependent variable while A represents the independent variables\n",
        "b = np.log(data8.price)\n",
        "A = data8.drop(['price'], axis=1)"
      ],
      "execution_count": 285,
      "outputs": []
    },
    {
      "cell_type": "code",
      "metadata": {
        "id": "Cq1wUZfK5MsD"
      },
      "source": [
        "#splitting the dataset into train and test.\n",
        "#the test data is 33% while the train data is 67%\n",
        "from sklearn.model_selection import train_test_split\n",
        "X_train, X_test, y_train, y_test = train_test_split(\n",
        "                                    A, b, random_state=42, test_size=.33)"
      ],
      "execution_count": 286,
      "outputs": []
    },
    {
      "cell_type": "code",
      "metadata": {
        "id": "pRZgIjzW6VfW",
        "colab": {
          "base_uri": "https://localhost:8080/"
        },
        "outputId": "817455f7-c197-46ae-cfb0-1d0ab6f93617"
      },
      "source": [
        "from sklearn import ensemble\n",
        "lr = ensemble.GradientBoostingRegressor()\n",
        "model = lr.fit(X_train, y_train)\n",
        "linear_model =  model.score(X_test, y_test)\n",
        "linear_model\n",
        "#the models accuracy is 80.8% meaning that it is a good predictor"
      ],
      "execution_count": 287,
      "outputs": [
        {
          "output_type": "execute_result",
          "data": {
            "text/plain": [
              "0.8080527126472209"
            ]
          },
          "metadata": {},
          "execution_count": 287
        }
      ]
    },
    {
      "cell_type": "code",
      "metadata": {
        "id": "iM1BVO2B6fWA",
        "colab": {
          "base_uri": "https://localhost:8080/"
        },
        "outputId": "e0776a97-f613-4c97-c649-91873f643729"
      },
      "source": [
        "\n",
        "y_pred = model.predict(X_test)\n",
        "from sklearn.metrics import mean_squared_error\n",
        "print ('RMSE is: \\n', mean_squared_error(y_test, y_pred))\n",
        "#the mean squared error for the model is quite low hence confirming the previous findings of its predictive \n",
        "#capabilities given by the accuracy score"
      ],
      "execution_count": 288,
      "outputs": [
        {
          "output_type": "stream",
          "name": "stdout",
          "text": [
            "RMSE is: \n",
            " 0.054282893490123114\n"
          ]
        }
      ]
    },
    {
      "cell_type": "code",
      "metadata": {
        "id": "n17EdGrh6nDc",
        "colab": {
          "base_uri": "https://localhost:8080/",
          "height": 313
        },
        "outputId": "8a6ed4cd-4cae-43bd-b4a8-e0dcb7381856"
      },
      "source": [
        "actual_values = y_test\n",
        "plt.scatter(y_pred, actual_values, alpha=.75,\n",
        "            color='b') #alpha helps to show overlapping data\n",
        "plt.xlabel('Predicted Price')\n",
        "plt.ylabel('Actual Price')\n",
        "plt.title('Linear Regression Model')\n",
        "#pltrandom_state=None.show()"
      ],
      "execution_count": 290,
      "outputs": [
        {
          "output_type": "execute_result",
          "data": {
            "text/plain": [
              "Text(0.5, 1.0, 'Linear Regression Model')"
            ]
          },
          "metadata": {},
          "execution_count": 290
        },
        {
          "output_type": "display_data",
          "data": {
            "image/png": "[encoded data removed]",
            "text/plain": [
              "<Figure size 432x288 with 1 Axes>"
            ]
          },
          "metadata": {
            "needs_background": "light"
          }
        }
      ]
    },
    {
      "cell_type": "markdown",
      "metadata": {
        "id": "N6XsbB9hvg_D"
      },
      "source": [
        "## Checking for Heteroskedasticity using Barlette's Test"
      ]
    },
    {
      "cell_type": "code",
      "metadata": {
        "id": "EA61TvZG70u3"
      },
      "source": [
        "from sklearn import linear_model\n",
        "from sklearn import ensemble"
      ],
      "execution_count": 292,
      "outputs": []
    },
    {
      "cell_type": "code",
      "metadata": {
        "id": "Rcn9SJ--xI6M",
        "colab": {
          "base_uri": "https://localhost:8080/"
        },
        "outputId": "f0db06c5-3cbf-4676-d2aa-3afaffc0cad5"
      },
      "source": [
        "# Using critical value to find the heteroskedasticity\n",
        "import scipy as sp\n",
        "test_result, p_value = sp.stats.bartlett(y_pred, y_test)\n",
        "\n",
        "# To interpret the results we must also compute a critical value of the chi squared distribution\n",
        "degree_of_freedom = len(y_pred)-1\n",
        "probability = 1 - p_value\n",
        "critical_value = sp.stats.chi2.ppf(probability, degree_of_freedom)\n",
        "print(critical_value)\n",
        "\n",
        "# comparing the critical value and the test result\n",
        "if (test_result > critical_value):\n",
        " print('the variances are unequal, and the model should be reassessed')\n",
        "else:\n",
        " print('the variances are homogeneous!')"
      ],
      "execution_count": 294,
      "outputs": [
        {
          "output_type": "stream",
          "name": "stdout",
          "text": [
            "inf\n",
            "the variances are homogeneous!\n"
          ]
        }
      ]
    },
    {
      "cell_type": "code",
      "metadata": {
        "id": "5k2LODKlwV8w",
        "colab": {
          "base_uri": "https://localhost:8080/",
          "height": 295
        },
        "outputId": "48ea6270-174a-4c9c-96be-8e7546045e28"
      },
      "source": [
        "# Plotting the prediction errors\n",
        "\n",
        "residuals = y_test - y_pred\n",
        "plt.scatter(y_pred, residuals, color='blue')\n",
        "plt.title('Residual Plot')\n",
        "plt.ylabel('residual')\n",
        "plt.xlabel('fitted values')\n",
        "plt.axhline(y= residuals.mean(), color='black')\n",
        "plt.show()"
      ],
      "execution_count": 295,
      "outputs": [
        {
          "output_type": "display_data",
          "data": {
            "image/png": "[encoded data removed]",
            "text/plain": [
              "<Figure size 432x288 with 1 Axes>"
            ]
          },
          "metadata": {
            "needs_background": "light"
          }
        }
      ]
    },
    {
      "cell_type": "markdown",
      "metadata": {
        "id": "syMeMn8Mxonz"
      },
      "source": [
        "The residual plot above shows a random, clustered pattern around zero, indicating low heteroskedasticity thus,a good fit for the linear model."
      ]
    },
    {
      "cell_type": "code",
      "metadata": {
        "id": "DYVw7axYnFpb",
        "colab": {
          "base_uri": "https://localhost:8080/"
        },
        "outputId": "9674984e-9ccd-47f1-c23f-98ddf369b647"
      },
      "source": [
        "data8.info()"
      ],
      "execution_count": 296,
      "outputs": [
        {
          "output_type": "stream",
          "name": "stdout",
          "text": [
            "<class 'pandas.core.frame.DataFrame'>\n",
            "Int64Index: 21612 entries, 0 to 21612\n",
            "Data columns (total 13 columns):\n",
            " #   Column           Non-Null Count  Dtype  \n",
            "---  ------           --------------  -----  \n",
            " 0   price            21612 non-null  float64\n",
            " 1   bedrooms         21612 non-null  int64  \n",
            " 2   bathrooms        21612 non-null  float64\n",
            " 3   sqft_lot         21612 non-null  int64  \n",
            " 4   floors           21612 non-null  float64\n",
            " 5   condition        21612 non-null  int64  \n",
            " 6   grade            21612 non-null  int64  \n",
            " 7   sqft_basement    21612 non-null  int64  \n",
            " 8   yr_built         21612 non-null  int64  \n",
            " 9   zipcode          21612 non-null  int64  \n",
            " 10  sqft_abv_living  21612 non-null  int64  \n",
            " 11  waterfront_0     21612 non-null  uint8  \n",
            " 12  waterfront_1     21612 non-null  uint8  \n",
            "dtypes: float64(3), int64(8), uint8(2)\n",
            "memory usage: 2.6 MB\n"
          ]
        }
      ]
    },
    {
      "cell_type": "markdown",
      "metadata": {
        "id": "lQ2G4ZPDVOXE"
      },
      "source": [
        "# 2nd Approach: Quantile Regression"
      ]
    },
    {
      "cell_type": "code",
      "metadata": {
        "id": "LFQ1gJJ3lDLj"
      },
      "source": [
        "#Separating training and testing datasets using numerical data\n",
        "C = data8.drop(['condition', 'grade','waterfront_0','waterfront_1'], axis=1) \n",
        "y = data8['price']"
      ],
      "execution_count": 236,
      "outputs": []
    },
    {
      "cell_type": "code",
      "metadata": {
        "id": "Oo7Fm44Wln9m",
        "colab": {
          "base_uri": "https://localhost:8080/"
        },
        "outputId": "dcc7e5e8-e23b-46ec-8692-ec8ce2777034"
      },
      "source": [
        "from sklearn.model_selection import train_test_split\n",
        "C_train, C_test, y_train, y_test = train_test_split(C,y, test_size=0.2, random_state=24)\n",
        "# importing python package statsmodels for Quantile Regression\n",
        "#\n",
        "import statsmodels.formula.api as smf\n",
        "# Finding the regression coefficients for the conditioned median, 0.5 quantile\n",
        "#\n",
        "mod = smf.quantreg('y ~ C', data6)\n",
        "res = mod.fit(q=.8)\n",
        "  # Then print out the summary of our model\n",
        "  #\n",
        "print(res.summary())"
      ],
      "execution_count": 237,
      "outputs": [
        {
          "output_type": "stream",
          "name": "stdout",
          "text": [
            "                         QuantReg Regression Results                          \n",
            "==============================================================================\n",
            "Dep. Variable:                      y   Pseudo R-squared:                1.000\n",
            "Model:                       QuantReg   Bandwidth:                   2.271e-05\n",
            "Method:                 Least Squares   Sparsity:                    0.0007352\n",
            "Date:                Sun, 17 Oct 2021   No. Observations:                21612\n",
            "Time:                        02:13:11   Df Residuals:                    21602\n",
            "                                        Df Model:                            9\n",
            "==============================================================================\n",
            "                 coef    std err          t      P>|t|      [0.025      0.975]\n",
            "------------------------------------------------------------------------------\n",
            "Intercept  -2.556e-10   1.53e-09     -0.167      0.867   -3.25e-09    2.74e-09\n",
            "C[0]           1.0000   1.37e-11   7.32e+10      0.000       1.000       1.000\n",
            "C[1]        3.744e-07   3.58e-06      0.105      0.917   -6.65e-06    7.39e-06\n",
            "C[2]       -1.229e-06   6.07e-06     -0.203      0.839   -1.31e-05    1.07e-05\n",
            "C[3]        -9.58e-09   9.79e-11    -97.858      0.000   -9.77e-09   -9.39e-09\n",
            "C[4]        8.345e-07   5.92e-06      0.141      0.888   -1.08e-05    1.24e-05\n",
            "C[5]         3.06e-09    8.2e-09      0.373      0.709    -1.3e-08    1.91e-08\n",
            "C[6]        7.451e-09    1.1e-07      0.068      0.946   -2.08e-07    2.23e-07\n",
            "C[7]        4.123e-09   2.15e-09      1.914      0.056   -9.93e-11    8.35e-09\n",
            "C[8]        1.262e-12   3.34e-09      0.000      1.000   -6.55e-09    6.55e-09\n",
            "==============================================================================\n",
            "\n",
            "The condition number is large, 1.36e+09. This might indicate that there are\n",
            "strong multicollinearity or other numerical problems.\n"
          ]
        }
      ]
    },
    {
      "cell_type": "code",
      "metadata": {
        "id": "b6B8eV9rouI1",
        "colab": {
          "base_uri": "https://localhost:8080/",
          "height": 419
        },
        "outputId": "af2d5f8c-83a7-43e8-cd51-a78c3e5333cb"
      },
      "source": [
        "# Making Predictions\n",
        "# \n",
        "pred = res.predict(C)\n",
        "# To compare the actual output values for X_test with the predicted values\n",
        "# \n",
        "B1 = pd.DataFrame({'Actual': y, 'Predicted': pred})\n",
        "B1"
      ],
      "execution_count": 238,
      "outputs": [
        {
          "output_type": "execute_result",
          "data": {
            "text/html": [
              "<div>\n",
              "<style scoped>\n",
              "    .dataframe tbody tr th:only-of-type {\n",
              "        vertical-align: middle;\n",
              "    }\n",
              "\n",
              "    .dataframe tbody tr th {\n",
              "        vertical-align: top;\n",
              "    }\n",
              "\n",
              "    .dataframe thead th {\n",
              "        text-align: right;\n",
              "    }\n",
              "</style>\n",
              "<table border=\"1\" class=\"dataframe\">\n",
              "  <thead>\n",
              "    <tr style=\"text-align: right;\">\n",
              "      <th></th>\n",
              "      <th>Actual</th>\n",
              "      <th>Predicted</th>\n",
              "    </tr>\n",
              "  </thead>\n",
              "  <tbody>\n",
              "    <tr>\n",
              "      <th>0</th>\n",
              "      <td>221900.0</td>\n",
              "      <td>221900.000253</td>\n",
              "    </tr>\n",
              "    <tr>\n",
              "      <th>1</th>\n",
              "      <td>538000.0</td>\n",
              "      <td>538000.000077</td>\n",
              "    </tr>\n",
              "    <tr>\n",
              "      <th>2</th>\n",
              "      <td>180000.0</td>\n",
              "      <td>180000.000231</td>\n",
              "    </tr>\n",
              "    <tr>\n",
              "      <th>3</th>\n",
              "      <td>604000.0</td>\n",
              "      <td>604000.000065</td>\n",
              "    </tr>\n",
              "    <tr>\n",
              "      <th>4</th>\n",
              "      <td>510000.0</td>\n",
              "      <td>510000.000081</td>\n",
              "    </tr>\n",
              "    <tr>\n",
              "      <th>...</th>\n",
              "      <td>...</td>\n",
              "      <td>...</td>\n",
              "    </tr>\n",
              "    <tr>\n",
              "      <th>21608</th>\n",
              "      <td>360000.0</td>\n",
              "      <td>360000.000226</td>\n",
              "    </tr>\n",
              "    <tr>\n",
              "      <th>21609</th>\n",
              "      <td>400000.0</td>\n",
              "      <td>400000.000160</td>\n",
              "    </tr>\n",
              "    <tr>\n",
              "      <th>21610</th>\n",
              "      <td>402101.0</td>\n",
              "      <td>402101.000203</td>\n",
              "    </tr>\n",
              "    <tr>\n",
              "      <th>21611</th>\n",
              "      <td>400000.0</td>\n",
              "      <td>400000.000192</td>\n",
              "    </tr>\n",
              "    <tr>\n",
              "      <th>21612</th>\n",
              "      <td>325000.0</td>\n",
              "      <td>325000.000245</td>\n",
              "    </tr>\n",
              "  </tbody>\n",
              "</table>\n",
              "<p>21612 rows × 2 columns</p>\n",
              "</div>"
            ],
            "text/plain": [
              "         Actual      Predicted\n",
              "0      221900.0  221900.000253\n",
              "1      538000.0  538000.000077\n",
              "2      180000.0  180000.000231\n",
              "3      604000.0  604000.000065\n",
              "4      510000.0  510000.000081\n",
              "...         ...            ...\n",
              "21608  360000.0  360000.000226\n",
              "21609  400000.0  400000.000160\n",
              "21610  402101.0  402101.000203\n",
              "21611  400000.0  400000.000192\n",
              "21612  325000.0  325000.000245\n",
              "\n",
              "[21612 rows x 2 columns]"
            ]
          },
          "metadata": {},
          "execution_count": 238
        }
      ]
    },
    {
      "cell_type": "markdown",
      "metadata": {
        "id": "Z9z0NbGw8skZ"
      },
      "source": [
        "Using the 0.8 Quantile, The actual scores are very close to the predicted scores indicating that the model is extremely good at predicitng (Almost Perfect)\n"
      ]
    },
    {
      "cell_type": "code",
      "metadata": {
        "id": "H690Y7Srpiou",
        "colab": {
          "base_uri": "https://localhost:8080/"
        },
        "outputId": "16f59a42-843f-484f-9329-e3a1afda2be5"
      },
      "source": [
        "#Using Quantile 0.2,\n",
        "from sklearn.model_selection import train_test_split\n",
        "C_train, C_test, y_train, y_test = train_test_split(C,y, test_size=0.2, random_state=24)\n",
        "# importing python package statsmodels for Quantile Regression\n",
        "#\n",
        "import statsmodels.formula.api as smf\n",
        "# Finding the regression coefficients for the conditioned median, 0.5 quantile\n",
        "#\n",
        "mod = smf.quantreg('y ~ C', data6)\n",
        "res = mod.fit(q=.2)\n",
        "  # Then print out the summary of our model\n",
        "  #\n",
        "print(res.summary())"
      ],
      "execution_count": 239,
      "outputs": [
        {
          "output_type": "stream",
          "name": "stdout",
          "text": [
            "                         QuantReg Regression Results                          \n",
            "==============================================================================\n",
            "Dep. Variable:                      y   Pseudo R-squared:                1.000\n",
            "Model:                       QuantReg   Bandwidth:                   5.233e-06\n",
            "Method:                 Least Squares   Sparsity:                    0.0001391\n",
            "Date:                Sun, 17 Oct 2021   No. Observations:                21612\n",
            "Time:                        02:13:22   Df Residuals:                    21602\n",
            "                                        Df Model:                            9\n",
            "==============================================================================\n",
            "                 coef    std err          t      P>|t|      [0.025      0.975]\n",
            "------------------------------------------------------------------------------\n",
            "Intercept   1.603e-10   4.14e-10      0.387      0.699   -6.52e-10    9.72e-10\n",
            "C[0]           1.0000   1.84e-12   5.42e+11      0.000       1.000       1.000\n",
            "C[1]        4.098e-07   8.74e-07      0.469      0.639    -1.3e-06    2.12e-06\n",
            "C[2]        6.109e-07   1.42e-06      0.429      0.668   -2.18e-06     3.4e-06\n",
            "C[3]       -4.397e-09   5.88e-12   -747.823      0.000   -4.41e-09   -4.39e-09\n",
            "C[4]        1.651e-07   1.58e-06      0.104      0.917   -2.94e-06    3.27e-06\n",
            "C[5]       -2.008e-09   1.52e-09     -1.321      0.186   -4.99e-09    9.71e-10\n",
            "C[6]       -8.848e-09   2.76e-08     -0.321      0.748   -6.29e-08    4.52e-08\n",
            "C[7]        1.041e-09   5.45e-10      1.912      0.056   -2.63e-11    2.11e-09\n",
            "C[8]        6.806e-09   6.42e-10     10.608      0.000    5.55e-09    8.06e-09\n",
            "==============================================================================\n",
            "\n",
            "The condition number is large, 1.36e+09. This might indicate that there are\n",
            "strong multicollinearity or other numerical problems.\n"
          ]
        }
      ]
    },
    {
      "cell_type": "code",
      "metadata": {
        "id": "bmy6fIbdp5ew",
        "colab": {
          "base_uri": "https://localhost:8080/"
        },
        "outputId": "5539807a-8c8d-4dec-fe21-74d6ce19475f"
      },
      "source": [
        "from sklearn.metrics import r2_score\n",
        "u = r2_score(y, pred)\n",
        "u"
      ],
      "execution_count": 240,
      "outputs": [
        {
          "output_type": "execute_result",
          "data": {
            "text/plain": [
              "1.0"
            ]
          },
          "metadata": {},
          "execution_count": 240
        }
      ]
    },
    {
      "cell_type": "markdown",
      "metadata": {
        "id": "_4vOKeZt9QB1"
      },
      "source": [
        "Using the 0.2 Quantile, The R2 score is 1, the highest possible value for accuracy indicating that the model is extremely good at predicitng (Almost Perfect). This means that we have a case of overfitting hence not a good predictor!"
      ]
    },
    {
      "cell_type": "markdown",
      "metadata": {
        "id": "1ax7GW8lNuy8"
      },
      "source": [
        "# 3rd Approach: Ridge Regression"
      ]
    },
    {
      "cell_type": "code",
      "metadata": {
        "id": "1Z5Usr_MaTlP"
      },
      "source": [
        "# In order to create our ridge model we need to first determine the most appropriate value for\n",
        "# the l2 regularization. \n",
        "# L2 is the name of the hyperparameter that is used in ridge regression. \n",
        "# Determining the value of a hyperparameter requires the use of a grid. \n",
        "# In the code below, we first create our ridge model and indicate normalization in order to get better estimates. \n",
        "# Next we setup the grid that we will use. \n",
        "# The search object has several arguments within it. Alpha is hyperparameter we are trying to set. \n",
        "# The log space is the range of values we want to test. \n",
        "# Are metric is the mean squared error. Refit set true means to adjust the parameters while modeling \n",
        "# and cv is the number of folds to develop for the cross-validation. \n",
        "#\n",
        "from sklearn.model_selection import GridSearchCV\n",
        "from sklearn.linear_model import Ridge\n",
        "ridge = Ridge(normalize=True)\n",
        "search = GridSearchCV(estimator=ridge,param_grid={'alpha':np.logspace(-5,2,8)},scoring='neg_mean_squared_error',n_jobs=1,refit=True,cv=10)"
      ],
      "execution_count": 215,
      "outputs": []
    },
    {
      "cell_type": "code",
      "metadata": {
        "id": "yXq2xonia_FM",
        "colab": {
          "base_uri": "https://localhost:8080/"
        },
        "outputId": "31e5660f-5d4a-4d0a-803f-3c5b525ba1f9"
      },
      "source": [
        "# We now use the .fit function to run the model and then use the .best_params_ and\n",
        "#  .best_scores_ function to determine the models strength. \n",
        "# \n",
        "search.fit(X_train, y_train)\n",
        "search.best_params_\n",
        "# {'alpha': 0.001}\n",
        " \n",
        "\n",
        "# The best_params_ tells us what to set alpha too which in this case is 0.001. \n",
        "# The best_score_ tells us what the best possible mean squared error is. "
      ],
      "execution_count": 216,
      "outputs": [
        {
          "output_type": "execute_result",
          "data": {
            "text/plain": [
              "{'alpha': 0.001}"
            ]
          },
          "metadata": {},
          "execution_count": 216
        }
      ]
    },
    {
      "cell_type": "code",
      "metadata": {
        "id": "GMKgQee1kaAt",
        "colab": {
          "base_uri": "https://localhost:8080/"
        },
        "outputId": "f60b8a34-ff69-4b97-b92b-134152d9317a"
      },
      "source": [
        "first_model = abs(search.best_score_)\n",
        "print(first_model)"
      ],
      "execution_count": 217,
      "outputs": [
        {
          "output_type": "stream",
          "name": "stdout",
          "text": [
            "0.09769255674441647\n"
          ]
        }
      ]
    },
    {
      "cell_type": "markdown",
      "metadata": {
        "id": "lXs5WSQ394M7"
      },
      "source": [
        "The RMSE score based on the optimal alpha value is 0.097 which is quite good."
      ]
    },
    {
      "cell_type": "markdown",
      "metadata": {
        "id": "lSsZ57JTzqCc"
      },
      "source": [
        "## Hyperparameter Tuning"
      ]
    },
    {
      "cell_type": "markdown",
      "metadata": {
        "id": "VNYqdlRA-PWc"
      },
      "source": [
        "we try and tune the parameters to see if we can get a better(lower) RMSE score"
      ]
    },
    {
      "cell_type": "code",
      "metadata": {
        "id": "_1uEitU1bhZW",
        "colab": {
          "base_uri": "https://localhost:8080/"
        },
        "outputId": "7f964efb-7fe7-40f9-99b3-128c808fc943"
      },
      "source": [
        "# We can confirm this by fitting our model with the ridge information and finding the\n",
        "# mean squared error below\n",
        "#\n",
        "ridge = Ridge(normalize=True,alpha=0.01)\n",
        "ridge.fit(X_train , y_train)\n",
        "second_model = (mean_squared_error(y_true= y_test,y_pred=ridge.predict(X_test)))\n",
        "print(second_model)"
      ],
      "execution_count": 218,
      "outputs": [
        {
          "output_type": "stream",
          "name": "stdout",
          "text": [
            "0.10169448649294988\n"
          ]
        }
      ]
    },
    {
      "cell_type": "code",
      "metadata": {
        "id": "kvkKC91_llh1",
        "colab": {
          "base_uri": "https://localhost:8080/"
        },
        "outputId": "97fc78e5-3ffc-4215-dbc3-fd16d6f410a0"
      },
      "source": [
        "ridge = Ridge(normalize=True,alpha=1)\n",
        "ridge.fit(X_train , y_train)\n",
        "third_model = (mean_squared_error(y_true= y_test,y_pred=ridge.predict(X_test)))\n",
        "print(third_model)"
      ],
      "execution_count": 219,
      "outputs": [
        {
          "output_type": "stream",
          "name": "stdout",
          "text": [
            "0.1286810620804601\n"
          ]
        }
      ]
    },
    {
      "cell_type": "code",
      "metadata": {
        "id": "qZXyQwvslpEf",
        "colab": {
          "base_uri": "https://localhost:8080/"
        },
        "outputId": "e4cfee14-ae64-402c-b985-6f7b3e973f49"
      },
      "source": [
        "ridge = Ridge(normalize=True,alpha=10)\n",
        "ridge.fit(X_train , y_train)\n",
        "fourth_model = (mean_squared_error(y_true= y_test,y_pred=ridge.predict(X_test)))\n",
        "print(fourth_model)"
      ],
      "execution_count": 220,
      "outputs": [
        {
          "output_type": "stream",
          "name": "stdout",
          "text": [
            "0.22052155581771388\n"
          ]
        }
      ]
    },
    {
      "cell_type": "code",
      "metadata": {
        "id": "Kct81RPjm0xz",
        "colab": {
          "base_uri": "https://localhost:8080/"
        },
        "outputId": "da310be7-30a3-40f4-8071-22fbf83e5f99"
      },
      "source": [
        "ridge = Ridge(normalize=True,alpha=100)\n",
        "ridge.fit(X_train , y_train)\n",
        "fifth_model = (mean_squared_error(y_true= y_test,y_pred=ridge.predict(X_test)))\n",
        "print(fifth_model)"
      ],
      "execution_count": 221,
      "outputs": [
        {
          "output_type": "stream",
          "name": "stdout",
          "text": [
            "0.2739194591352993\n"
          ]
        }
      ]
    },
    {
      "cell_type": "code",
      "metadata": {
        "id": "f0_bQURKwfzq",
        "colab": {
          "base_uri": "https://localhost:8080/",
          "height": 203
        },
        "outputId": "105b2013-d604-4edd-8aa5-076053a609f6"
      },
      "source": [
        "models = ['0.001','0.01', '1', '10', '100']\n",
        "model_names = [first_model,second_model,third_model,fourth_model,fifth_model]\n",
        "con = pd.DataFrame({'Alpha_value': models, 'mean_squared_error': model_names})\n",
        "con"
      ],
      "execution_count": 222,
      "outputs": [
        {
          "output_type": "execute_result",
          "data": {
            "text/html": [
              "<div>\n",
              "<style scoped>\n",
              "    .dataframe tbody tr th:only-of-type {\n",
              "        vertical-align: middle;\n",
              "    }\n",
              "\n",
              "    .dataframe tbody tr th {\n",
              "        vertical-align: top;\n",
              "    }\n",
              "\n",
              "    .dataframe thead th {\n",
              "        text-align: right;\n",
              "    }\n",
              "</style>\n",
              "<table border=\"1\" class=\"dataframe\">\n",
              "  <thead>\n",
              "    <tr style=\"text-align: right;\">\n",
              "      <th></th>\n",
              "      <th>Alpha_value</th>\n",
              "      <th>mean_squared_error</th>\n",
              "    </tr>\n",
              "  </thead>\n",
              "  <tbody>\n",
              "    <tr>\n",
              "      <th>0</th>\n",
              "      <td>0.001</td>\n",
              "      <td>0.097693</td>\n",
              "    </tr>\n",
              "    <tr>\n",
              "      <th>1</th>\n",
              "      <td>0.01</td>\n",
              "      <td>0.101694</td>\n",
              "    </tr>\n",
              "    <tr>\n",
              "      <th>2</th>\n",
              "      <td>1</td>\n",
              "      <td>0.128681</td>\n",
              "    </tr>\n",
              "    <tr>\n",
              "      <th>3</th>\n",
              "      <td>10</td>\n",
              "      <td>0.220522</td>\n",
              "    </tr>\n",
              "    <tr>\n",
              "      <th>4</th>\n",
              "      <td>100</td>\n",
              "      <td>0.273919</td>\n",
              "    </tr>\n",
              "  </tbody>\n",
              "</table>\n",
              "</div>"
            ],
            "text/plain": [
              "  Alpha_value  mean_squared_error\n",
              "0       0.001            0.097693\n",
              "1        0.01            0.101694\n",
              "2           1            0.128681\n",
              "3          10            0.220522\n",
              "4         100            0.273919"
            ]
          },
          "metadata": {},
          "execution_count": 222
        }
      ]
    },
    {
      "cell_type": "markdown",
      "metadata": {
        "id": "xyZSSqJ6-b5s"
      },
      "source": [
        "The lowest RMSE score is given by alpha = 0.001"
      ]
    },
    {
      "cell_type": "code",
      "metadata": {
        "id": "kLTINISejvsC",
        "colab": {
          "base_uri": "https://localhost:8080/",
          "height": 1000
        },
        "outputId": "08a2185d-a415-4e10-bf78-921a93bef801"
      },
      "source": [
        "for i in range (-2, 3):\n",
        "    alpha = 10**i\n",
        "    rm = linear_model.Ridge(alpha=alpha)\n",
        "    ridge_model = rm.fit(X_train, y_train)\n",
        "    preds_ridge = ridge_model.predict(X_test)\n",
        "    \n",
        "    plt.scatter(preds_ridge, actual_values, alpha=.75, color='b')\n",
        "    plt.xlabel('Predicted Price')\n",
        "    plt.ylabel('Actual Price')\n",
        "    plt.title('Ridge Regularization with alpha = {}'.format(alpha))\n",
        "    # print ('RMSE is: \\n', mean_squared_error(y_test, predictions))\n",
        "    overlay = ('R^2 is: {}\\nRMSE is: {}'.format(\n",
        "        \n",
        "                    ridge_model.score(X_test, y_test),\n",
        "\n",
        "                    mean_squared_error(y_test, preds_ridge)))\n",
        "    \n",
        "    plt.annotate(s=overlay,xy=(12.1,10.6),size='x-large')\n",
        "    plt.show()"
      ],
      "execution_count": 297,
      "outputs": [
        {
          "output_type": "display_data",
          "data": {
            "image/png": "[encoded data removed]",
            "text/plain": [
              "<Figure size 432x288 with 1 Axes>"
            ]
          },
          "metadata": {
            "needs_background": "light"
          }
        },
        {
          "output_type": "display_data",
          "data": {
            "image/png": "[encoded data removed]",
            "text/plain": [
              "<Figure size 432x288 with 1 Axes>"
            ]
          },
          "metadata": {
            "needs_background": "light"
          }
        },
        {
          "output_type": "display_data",
          "data": {
            "image/png": "[encoded data removed]",
            "text/plain": [
              "<Figure size 432x288 with 1 Axes>"
            ]
          },
          "metadata": {
            "needs_background": "light"
          }
        },
        {
          "output_type": "display_data",
          "data": {
            "image/png": "[encoded data removed]",
            "text/plain": [
              "<Figure size 432x288 with 1 Axes>"
            ]
          },
          "metadata": {
            "needs_background": "light"
          }
        },
        {
          "output_type": "display_data",
          "data": {
            "image/png": "[encoded data removed]",
            "text/plain": [
              "<Figure size 432x288 with 1 Axes>"
            ]
          },
          "metadata": {
            "needs_background": "light"
          }
        }
      ]
    },
    {
      "cell_type": "markdown",
      "metadata": {
        "id": "UjSzqeLu-oom"
      },
      "source": [
        "The plots show the actual vs predicted prices for varying alpha values."
      ]
    },
    {
      "cell_type": "markdown",
      "metadata": {
        "id": "nHB_ymp4Nxwg"
      },
      "source": [
        "# 4th Approach: Lasso Regression"
      ]
    },
    {
      "cell_type": "code",
      "metadata": {
        "id": "B2pSdpwdeAO9"
      },
      "source": [
        "# Before building the models, let's first scale data. \n",
        "# Lasso put constraints on the size of the coefficients associated to each variable. \n",
        "# But, this value depends on the magnitude of each variable and it is therefore \n",
        "# necessary to center and reduce, or standardize, the variables.\n",
        "# \n",
        "\n",
        "# Importing StandardScaler\n",
        "#\n",
        "from sklearn.preprocessing import StandardScaler\n",
        "\n",
        "# Creating features and target matrixes\n",
        "\n",
        "# Scaling data \n",
        "#\n",
        "scaler = StandardScaler()\n",
        "scaler.fit(X_train)\n",
        "X_train = scaler.transform(X_train)"
      ],
      "execution_count": 224,
      "outputs": []
    },
    {
      "cell_type": "code",
      "metadata": {
        "id": "b89ES5fIeZ2V",
        "colab": {
          "base_uri": "https://localhost:8080/"
        },
        "outputId": "fd6746a4-539f-477e-88b1-70a8f2bf3e94"
      },
      "source": [
        "# We can basically build the Lasso model. \n",
        "# But for now, we will train it on the whole dataset and look at an R-squared score and on the model coefficients. \n",
        "# Note, that we are not setting the alpha, it is defined as 1.\n",
        "# \n",
        "\n",
        "# Importing linear models\n",
        "# \n",
        "from sklearn import linear_model\n",
        "\n",
        "# Creating lasso object\n",
        "# \n",
        "lasso = linear_model.Lasso() \n",
        "\n",
        "# Fitting the models\n",
        "# \n",
        "lasso.fit(X_train, y_train) \n",
        "\n",
        "# Print scores, Mean Squared Error, and coefficients\n",
        "# \n",
        "print(\"lasso score:\", lasso.score(X_test, y_test)) \n",
        "print(\"lasso MSE:\", mean_squared_error(y_test, lasso.predict(X_test))) \n",
        "print(\"lasso coef:\", lasso.coef_) "
      ],
      "execution_count": 225,
      "outputs": [
        {
          "output_type": "stream",
          "name": "stdout",
          "text": [
            "lasso score: -1.908986284382408e-05\n",
            "lasso MSE: 0.2828064438511517\n",
            "lasso coef: [ 0.  0.  0.  0.  0.  0.  0.  0. -0.  0. -0.  0.]\n"
          ]
        }
      ]
    },
    {
      "cell_type": "markdown",
      "metadata": {
        "id": "XEd72gTU-_5V"
      },
      "source": [
        "Lasso regression reduces almost all coefficients to zero"
      ]
    },
    {
      "cell_type": "code",
      "metadata": {
        "id": "h90LlY7yerVc",
        "colab": {
          "base_uri": "https://localhost:8080/"
        },
        "outputId": "4a3acfa7-b9af-4e7c-d889-eccf3c6bfd3b"
      },
      "source": [
        "# Splitting the data into training and test sets, building Lasso, \n",
        "# and choosing the regularization parameter with the help of GridSearch. \n",
        "# For that, we have to define the set of parameters for GridSearch. \n",
        "# In this case, a model with the highest R-squared score will give us the best parameters.\n",
        "# \n",
        "\n",
        "#splitting data into training and test sets, and choose a set of parameters\n",
        "\n",
        "X_train, X_test, y_train, y_test = train_test_split(A, b, test_size=0.25, random_state=101)\n",
        "parameters = {'alpha': np.concatenate((np.arange(0.1,2,0.1), np.arange(2, 5, 0.5), np.arange(5, 25, 1)))}\n",
        "\n",
        "linear = linear_model.LinearRegression()\n",
        "lasso = linear_model.Lasso() \n",
        "gridlasso = GridSearchCV(lasso, parameters, scoring ='r2') \n",
        "\n",
        "# Fitting models and print the best parameters, R-squared scores, MSE, and coefficients\n",
        "gridlasso.fit(X_train, y_train) \n",
        "linear.fit(X_train, y_train) \n",
        "print(\"lasso best parameters:\", gridlasso.best_params_) \n",
        "print(\"lasso score:\", gridlasso.score(X_test, y_test))\n",
        "print(\"lasso MSE:\", mean_squared_error(y_test, gridlasso.predict(X_test))) \n",
        "print(\"lasso best estimator coef:\", gridlasso.best_estimator_.coef_)\n",
        "print(\"linear coef:\", linear.coef_)"
      ],
      "execution_count": 226,
      "outputs": [
        {
          "output_type": "stream",
          "name": "stdout",
          "text": [
            "lasso best parameters: {'alpha': 0.1}\n",
            "lasso score: 0.5593240068923558\n",
            "lasso MSE: 0.1223632374107666\n",
            "lasso best estimator coef: [-0.00000000e+00  0.00000000e+00 -1.66463102e-07  0.00000000e+00\n",
            "  0.00000000e+00  4.85673091e-02  1.65360048e-04 -2.87041982e-03\n",
            "  6.09285139e-04  1.98728799e-04 -0.00000000e+00  0.00000000e+00]\n",
            "linear coef: [-2.79359227e-02  7.84693885e-02  3.32668903e-08  1.03997364e-01\n",
            "  4.40432951e-02  2.31635884e-01  1.52140579e-04 -5.36729378e-03\n",
            "  2.20427980e-04  7.92417008e-05 -2.45530109e-01  2.45530109e-01]\n"
          ]
        }
      ]
    },
    {
      "cell_type": "markdown",
      "metadata": {
        "id": "6kJchD50_cr5"
      },
      "source": [
        "Lasso regression yields an accuracy score of 55.9%"
      ]
    },
    {
      "cell_type": "code",
      "metadata": {
        "id": "sTaTuTJFfcQ0",
        "colab": {
          "base_uri": "https://localhost:8080/",
          "height": 458
        },
        "outputId": "5953c602-ef03-4bc1-c63a-953487ba911b"
      },
      "source": [
        "# Importing library for visualization\n",
        "#\n",
        "import matplotlib.pyplot as plt\n",
        "coefsLasso = [] \n",
        "\n",
        "# Building Lasso for 200 values of alpha and write the coefficients into array\n",
        "# \n",
        "\n",
        "import numpy as np\n",
        "\n",
        "alphasLasso = np.arange (0, 20, 0.1) \n",
        "for i in range(200):\n",
        "    lasso = linear_model.Lasso(alpha=alphasLasso[i])\n",
        "    lasso.fit(X_train, y_train)\n",
        "    coefsLasso.append(lasso.coef_) \n",
        "\n",
        "# Building Lasso coefficient plots\n",
        "# \n",
        "plt.figure(figsize = (16,7))\n",
        "\n",
        "plt.subplot(121)\n",
        "plt.plot(alphasLasso, coefsLasso)\n",
        "plt.title('Lasso coefficients')\n",
        "plt.xlabel('alpha')\n",
        "plt.ylabel('coefs')\n",
        "\n",
        "plt.show()\n",
        "\n",
        "# As we can see, Lasso influences less on the large coefficients, but the small ones Lasso reduces to zeroes. \n",
        "# Therefore Lasso can also be used to determine which features are important \n",
        "# to us and keeps the features that may influence the target variable"
      ],
      "execution_count": 227,
      "outputs": [
        {
          "output_type": "display_data",
          "data": {
            "image/png": "[encoded data removed]",
            "text/plain": [
              "<Figure size 1152x504 with 1 Axes>"
            ]
          },
          "metadata": {
            "needs_background": "light"
          }
        }
      ]
    },
    {
      "cell_type": "markdown",
      "metadata": {
        "id": "5o9Gv_cbN0rS"
      },
      "source": [
        "# 5th Approach: Elastic-Net Regression"
      ]
    },
    {
      "cell_type": "code",
      "metadata": {
        "id": "J_Ss2dcswPLt"
      },
      "source": [
        "#importing the necessary libraries to use\n",
        "from sklearn.linear_model import ElasticNet"
      ],
      "execution_count": 228,
      "outputs": []
    },
    {
      "cell_type": "code",
      "metadata": {
        "id": "fnMPOEgKwe4O",
        "colab": {
          "base_uri": "https://localhost:8080/"
        },
        "outputId": "3ccab7e0-e5d6-4ca3-dc62-b146eb1ce68c"
      },
      "source": [
        "regression=LinearRegression()\n",
        "regression.fit(X_train,y_train)\n",
        "first_model=(mean_squared_error(y_true=y_test,y_pred=regression.predict(X_test)))\n",
        "print(first_model)"
      ],
      "execution_count": 229,
      "outputs": [
        {
          "output_type": "stream",
          "name": "stdout",
          "text": [
            "0.09855852282797185\n"
          ]
        }
      ]
    },
    {
      "cell_type": "code",
      "metadata": {
        "id": "ZJtCltixzwaP"
      },
      "source": [
        "# Elastic Net Model\n",
        "# Elastic net, just like ridge and lasso regression, requires normalize data. \n",
        "# This argument  is set inside the ElasticNet function. \n",
        "# The second thing we need to do is create our grid.\n",
        "# \n",
        "elastic=ElasticNet(normalize=True)\n",
        "search=GridSearchCV(estimator=elastic,param_grid={'alpha':np.logspace(-5,2,8),'l1_ratio':[.2,.4,.6,.8]},scoring='neg_mean_squared_error',n_jobs=1,refit=True,cv=10)"
      ],
      "execution_count": 230,
      "outputs": []
    },
    {
      "cell_type": "code",
      "metadata": {
        "id": "JUWLC2350Dbr",
        "colab": {
          "base_uri": "https://localhost:8080/"
        },
        "outputId": "4064a772-9baf-4ada-ff87-034547d270b1"
      },
      "source": [
        "search.fit(X_train,y_train)\n",
        "search.best_params_\n",
        "abs(search.best_score_)"
      ],
      "execution_count": 231,
      "outputs": [
        {
          "output_type": "execute_result",
          "data": {
            "text/plain": [
              "0.09929457913413685"
            ]
          },
          "metadata": {},
          "execution_count": 231
        }
      ]
    },
    {
      "cell_type": "code",
      "metadata": {
        "id": "GzLQDTzd0LCB",
        "colab": {
          "base_uri": "https://localhost:8080/"
        },
        "outputId": "55258dcc-9d01-4faa-f23f-bf73de52769a"
      },
      "source": [
        "# The best hyperparameters was an alpha set to 0.001 and a l1_ratio of 0.8. \n",
        "# With these settings we got an MSE of 0.205 This is above our baseline model of MSE 1.05  for the baseline model. \n",
        "# Which means that elastic net is doing worse than linear regression. \n",
        "# For clarity, we will set our hyperparameters to the recommended values and run on the data.\n",
        "# \n",
        "elastic=ElasticNet(normalize=True,alpha=0.001,l1_ratio=0.75)\n",
        "elastic.fit(X_train,y_train)\n",
        "elastic_model=elastic.score(X_test,y_test)\n",
        "print(elastic_model)"
      ],
      "execution_count": 232,
      "outputs": [
        {
          "output_type": "stream",
          "name": "stdout",
          "text": [
            "0.2590866163530807\n"
          ]
        }
      ]
    },
    {
      "cell_type": "markdown",
      "metadata": {
        "id": "9oC5H7QMBQR4"
      },
      "source": [
        "Elastic net regression has an accuracy of 25.9% hence it cannot be used for predictions"
      ]
    },
    {
      "cell_type": "code",
      "metadata": {
        "id": "ALVTyJz60eXq",
        "colab": {
          "base_uri": "https://localhost:8080/"
        },
        "outputId": "e396dc61-5341-4826-d885-13067b41cb08"
      },
      "source": [
        "# Below are the coefficients\n",
        "# \n",
        "coef_dict_baseline = {}\n",
        "for coef, feat in zip(elastic.coef_,X_test.columns):\n",
        "    coef_dict_baseline[feat] = coef\n",
        "coef_dict_baseline\n",
        "\n",
        "# The coefficients are mostly the same. \n",
        "# Notice that occupation was completely removed from the model in the elastic net version. \n",
        "# This means that this values was no good to the algorithm. Traditional regression cannot do this."
      ],
      "execution_count": 233,
      "outputs": [
        {
          "output_type": "execute_result",
          "data": {
            "text/plain": [
              "{'bathrooms': 0.03285297301235168,\n",
              " 'bedrooms': 0.007133311912653315,\n",
              " 'condition': 0.0,\n",
              " 'floors': 0.0073146112238955925,\n",
              " 'grade': 0.03753750477601422,\n",
              " 'sqft_abv_living': 2.322043242624469e-05,\n",
              " 'sqft_basement': 2.1061112404780766e-05,\n",
              " 'sqft_lot': 0.0,\n",
              " 'waterfront_0': -0.0,\n",
              " 'waterfront_1': 0.0,\n",
              " 'yr_built': -0.0,\n",
              " 'zipcode': 0.0}"
            ]
          },
          "metadata": {},
          "execution_count": 233
        }
      ]
    },
    {
      "cell_type": "markdown",
      "metadata": {
        "id": "CHDIoZSA5Vmt"
      },
      "source": [
        "There are no patterns to explain the variances in the data.\n",
        "The features are independent."
      ]
    },
    {
      "cell_type": "code",
      "metadata": {
        "id": "P03lGO5-kuWt",
        "colab": {
          "base_uri": "https://localhost:8080/",
          "height": 458
        },
        "outputId": "50bdefe1-2928-4c21-9bd3-fa0d396e5218"
      },
      "source": [
        "# Building Elastic net coefficient plots\n",
        "\n",
        "plt.figure(figsize = (16,7))\n",
        "\n",
        "plt.subplot(121)\n",
        "plt.plot( elastic.coef_,X_test.columns)\n",
        "plt.title('Lasso coefficients')\n",
        "plt.xlabel('alpha')\n",
        "plt.ylabel('coefs')\n",
        "\n",
        "plt.show()"
      ],
      "execution_count": 234,
      "outputs": [
        {
          "output_type": "display_data",
          "data": {
            "image/png": "[encoded data removed]",
            "text/plain": [
              "<Figure size 1152x504 with 1 Axes>"
            ]
          },
          "metadata": {
            "needs_background": "light"
          }
        }
      ]
    },
    {
      "cell_type": "code",
      "metadata": {
        "id": "o02HJgD8r5Zy",
        "colab": {
          "base_uri": "https://localhost:8080/"
        },
        "outputId": "91ca41c8-820b-4893-be70-7fc8b13afa29"
      },
      "source": [
        "# Below are the coefficients\n",
        "# \n",
        "coef_dict_baseline = {}\n",
        "for coef, feat in zip(elastic.coef_,X_test.columns):\n",
        "    coef_dict_baseline[feat] = coef\n",
        "coef_dict_baseline\n",
        "\n",
        "# Some coefficients have been reduced to zero and only 6 have coefficients. \n",
        "# Notice that occupation was completely removed from the model in the elastic net version. \n",
        "# This means that this values was no good to the algorithm. Traditional regression cannot do this."
      ],
      "execution_count": 235,
      "outputs": [
        {
          "output_type": "execute_result",
          "data": {
            "text/plain": [
              "{'bathrooms': 0.03285297301235168,\n",
              " 'bedrooms': 0.007133311912653315,\n",
              " 'condition': 0.0,\n",
              " 'floors': 0.0073146112238955925,\n",
              " 'grade': 0.03753750477601422,\n",
              " 'sqft_abv_living': 2.322043242624469e-05,\n",
              " 'sqft_basement': 2.1061112404780766e-05,\n",
              " 'sqft_lot': 0.0,\n",
              " 'waterfront_0': -0.0,\n",
              " 'waterfront_1': 0.0,\n",
              " 'yr_built': -0.0,\n",
              " 'zipcode': 0.0}"
            ]
          },
          "metadata": {},
          "execution_count": 235
        }
      ]
    },
    {
      "cell_type": "markdown",
      "metadata": {
        "id": "xrmHVMVsVS--"
      },
      "source": [
        "## 9. Follow up questions"
      ]
    },
    {
      "cell_type": "markdown",
      "metadata": {
        "id": "HPQviDmNtta8"
      },
      "source": [
        "### a). Did we have the right data?\n",
        "NO!"
      ]
    },
    {
      "cell_type": "markdown",
      "metadata": {
        "id": "qjFHK1CKty7o"
      },
      "source": [
        "### b). Do we need other data to answer our question?\n",
        "YES! More conclusive features should be included."
      ]
    },
    {
      "cell_type": "markdown",
      "metadata": {
        "id": "jgmcgjwS1Jf9"
      },
      "source": [
        "#Conclusion"
      ]
    },
    {
      "cell_type": "markdown",
      "metadata": {
        "id": "BpN5mrFml6FW"
      },
      "source": [
        "Linear Regression and Lasso Regression yield accurate models and can be used for prediction."
      ]
    }
  ]
}